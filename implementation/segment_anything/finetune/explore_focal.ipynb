{
 "cells": [
  {
   "cell_type": "code",
   "execution_count": 1,
   "id": "initial_id",
   "metadata": {
    "collapsed": true,
    "ExecuteTime": {
     "end_time": "2023-12-19T12:38:13.948457331Z",
     "start_time": "2023-12-19T12:38:13.011111459Z"
    }
   },
   "outputs": [],
   "source": [
    "from metrics import *"
   ]
  },
  {
   "cell_type": "code",
   "execution_count": 10,
   "outputs": [
    {
     "name": "stdout",
     "output_type": "stream",
     "text": [
      "tensor([[1.1910e-16, 1.1910e-16, 1.1910e-16]])\n",
      "tensor([[1.1682e-16, 1.1682e-16, 1.1682e-16]])\n",
      "tensor([[5.9999, 5.9999, 5.9999]])\n",
      "tensor([[5.9999, 5.9999, 5.9999]])\n"
     ]
    }
   ],
   "source": [
    "shape = (1, 3, 512, 512)\n",
    "positive = torch.ones(shape)\n",
    "negative = torch.zeros(shape)\n",
    "ones = torch.ones(shape) * 12\n",
    "\n",
    "alpha = 0.5\n",
    "gamma = 2.0\n",
    "reduction = 'mean'\n",
    "\n",
    "print(focal(ones, positive, alpha, gamma, reduction))\n",
    "print(focal(-ones, negative, alpha, gamma, reduction))\n",
    "print(focal(ones, negative, alpha, gamma, reduction))\n",
    "print(focal(-ones, positive, alpha, gamma, reduction))\n"
   ],
   "metadata": {
    "collapsed": false,
    "ExecuteTime": {
     "end_time": "2023-12-19T12:43:15.646103115Z",
     "start_time": "2023-12-19T12:43:15.551351507Z"
    }
   },
   "id": "e941373c637bce0d"
  },
  {
   "cell_type": "code",
   "execution_count": 6,
   "outputs": [
    {
     "name": "stdout",
     "output_type": "stream",
     "text": [
      "tensor(1.)\n",
      "tensor(1.)\n",
      "tensor(-1.)\n",
      "tensor(-1.)\n"
     ]
    }
   ],
   "source": [
    "# this is symmetric:\n",
    "assert alpha == 0.5 and focal(ones, zeros, alpha, gamma, reduction) == focal(-ones, ones, alpha, gamma, reduction)"
   ],
   "metadata": {
    "collapsed": false,
    "ExecuteTime": {
     "end_time": "2023-12-19T12:36:36.934666169Z",
     "start_time": "2023-12-19T12:36:36.892312909Z"
    }
   },
   "id": "3a53c35ccb2b0321"
  },
  {
   "cell_type": "markdown",
   "source": [
    "# Let's try to replicate the focal loss from the paper, and see if it is indeed non-commutative"
   ],
   "metadata": {
    "collapsed": false
   },
   "id": "cfefe471e857fe98"
  },
  {
   "cell_type": "code",
   "execution_count": 16,
   "outputs": [],
   "source": [
    "def paper_focal_single(outputs, targets, alpha, gamma, reduction):\n",
    "    \"\"\"Compute the focal loss for a single sample\n",
    "    \n",
    "Args:\n",
    "        outputs (torch.Tensor): the outputs of the model, of shape HxW\n",
    "        targets (torch.Tensor): the targets, of shape HxW\n",
    "        alpha (float): Weighting factor in the range (0,1) to balance positive vs negative examples, or -1 for ignore. default: 0.25 to bias towards positive.\n",
    "        gamma (float): the gamma parameter\n",
    "        reduction (str): the reduction method\n",
    "    \"\"\"\n",
    "    # turn targets from 0,1 to -1,1\n",
    "    targets = targets * 2 - 1\n",
    "    print(targets)\n",
    "    # take the sigmoid of the outputs, to reflect the probability of the positive class:\n",
    "    p = torch.sigmoid(outputs)\n",
    "    print(p)\n",
    "    # set p to be p if target = 1, 1-p if target is -1\n",
    "    p = p * (targets == 1) + (1 - p) * (targets == -1)\n",
    "    print(p)\n",
    "    # compute the focal loss, by elementwise application of the function\n",
    "    # -(1 - p)^gamma * log(p)\n",
    "    loss = - (1 - p) ** gamma * torch.log(p)\n",
    "    print(p)\n",
    "    # apply the alpha factor, having 1-alpha for the positive class, alpha for the negative class\n",
    "    alphas = (1-alpha) * (targets == 1) + alpha * (targets == -1)\n",
    "    print(alphas)\n",
    "    loss = alphas * loss\n",
    "    # apply the reduction\n",
    "    if reduction == 'mean':\n",
    "        loss = loss.mean()\n",
    "    elif reduction == 'sum':\n",
    "        loss = loss.sum()\n",
    "    return loss\n",
    "    \n",
    "    \n",
    "    "
   ],
   "metadata": {
    "collapsed": false,
    "ExecuteTime": {
     "end_time": "2023-12-19T12:30:05.196669098Z",
     "start_time": "2023-12-19T12:30:05.194237363Z"
    }
   },
   "id": "1515e32c3c0f3dc6"
  },
  {
   "cell_type": "code",
   "execution_count": 17,
   "outputs": [
    {
     "name": "stdout",
     "output_type": "stream",
     "text": [
      "tensor([[1.]])\n",
      "tensor([[0.7311]])\n",
      "tensor([[0.7311]])\n",
      "tensor([[0.7311]])\n",
      "tensor([[0.5000]])\n",
      "tensor([[0.0113]])\n",
      "\n",
      "tensor([[-1.]])\n",
      "tensor([[0.5000]])\n",
      "tensor([[0.5000]])\n",
      "tensor([[0.5000]])\n",
      "tensor([[0.5000]])\n",
      "tensor([[0.0866]])\n",
      "\n",
      "tensor([[-1.]])\n",
      "tensor([[0.7311]])\n",
      "tensor([[0.2689]])\n",
      "tensor([[0.2689]])\n",
      "tensor([[0.5000]])\n",
      "tensor([[0.3509]])\n",
      "tensor([[1.]])\n",
      "tensor([[0.5000]])\n",
      "tensor([[0.5000]])\n",
      "tensor([[0.5000]])\n",
      "tensor([[0.5000]])\n",
      "tensor([[0.0866]])\n"
     ]
    }
   ],
   "source": [
    "# paper_focal_single(ones, ones, alpha, gamma, reduction)\n",
    "\n",
    "print(paper_focal_single(ones, ones, alpha, gamma, reduction))\n",
    "print()\n",
    "print(paper_focal_single(zeros, -ones, alpha, gamma, reduction))\n",
    "print()\n",
    "print(paper_focal_single(ones, zeros, alpha, gamma, reduction))\n",
    "print(paper_focal_single(zeros, ones, alpha, gamma, reduction))"
   ],
   "metadata": {
    "collapsed": false,
    "ExecuteTime": {
     "end_time": "2023-12-19T12:30:05.588708428Z",
     "start_time": "2023-12-19T12:30:05.578987484Z"
    }
   },
   "id": "7e9931ee68b53c22"
  },
  {
   "cell_type": "code",
   "execution_count": 18,
   "outputs": [
    {
     "data": {
      "text/plain": "tensor([0.2689])"
     },
     "execution_count": 18,
     "metadata": {},
     "output_type": "execute_result"
    }
   ],
   "source": [
    "torch.sigmoid(torch.Tensor([-1]))"
   ],
   "metadata": {
    "collapsed": false,
    "ExecuteTime": {
     "end_time": "2023-12-19T12:30:34.001216422Z",
     "start_time": "2023-12-19T12:30:33.957626278Z"
    }
   },
   "id": "93c7797fdb952ebe"
  },
  {
   "cell_type": "code",
   "execution_count": null,
   "outputs": [],
   "source": [],
   "metadata": {
    "collapsed": false
   },
   "id": "7da5b62088bb277a"
  }
 ],
 "metadata": {
  "kernelspec": {
   "display_name": "Python 3",
   "language": "python",
   "name": "python3"
  },
  "language_info": {
   "codemirror_mode": {
    "name": "ipython",
    "version": 2
   },
   "file_extension": ".py",
   "mimetype": "text/x-python",
   "name": "python",
   "nbconvert_exporter": "python",
   "pygments_lexer": "ipython2",
   "version": "2.7.6"
  }
 },
 "nbformat": 4,
 "nbformat_minor": 5
}
