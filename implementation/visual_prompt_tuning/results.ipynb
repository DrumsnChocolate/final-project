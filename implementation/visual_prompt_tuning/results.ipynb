{
 "cells": [
  {
   "cell_type": "code",
   "execution_count": 1,
   "id": "initial_id",
   "metadata": {
    "collapsed": true,
    "ExecuteTime": {
     "end_time": "2023-11-13T14:25:37.605054141Z",
     "start_time": "2023-11-13T14:25:36.124150008Z"
    }
   },
   "outputs": [],
   "source": [
    "import glob\n",
    "import pandas as pd\n",
    "\n",
    "from src.utils.vis_utils import get_df, average_df"
   ]
  },
  {
   "cell_type": "code",
   "execution_count": 2,
   "outputs": [],
   "source": [
    "pd.set_option(\"display.max_columns\", None)\n",
    "pd.set_option(\"display.max_rows\", None)"
   ],
   "metadata": {
    "collapsed": false,
    "ExecuteTime": {
     "end_time": "2023-11-13T14:25:37.606221354Z",
     "start_time": "2023-11-13T14:25:37.603741627Z"
    }
   },
   "id": "d93ece7a383f9354"
  },
  {
   "cell_type": "code",
   "execution_count": 3,
   "outputs": [
    {
     "name": "stdout",
     "output_type": "stream",
     "text": [
      "['output_dir/mammo-cbis/sup_vitb16_imagenet21k/prompt50/crop384/test/seed875/lr0.1_wd0.0001/patience7/run1/logs.txt', 'output_dir/mammo-cbis/sup_vitb16_imagenet21k/prompt50/crop384/test/seed9805/lr0.1_wd0.0001/patience7/run1/logs.txt', 'output_dir/mammo-cbis/sup_vitb16_imagenet21k/prompt50/crop384/test/seed3172/lr0.1_wd0.0001/patience7/run1/logs.txt', 'output_dir/mammo-cbis/sup_vitb16_imagenet21k/prompt50/crop384/test/seed8393/lr0.1_wd0.0001/patience7/run1/logs.txt', 'output_dir/mammo-cbis/sup_vitb16_imagenet21k/prompt50/crop384/test/seed4536/lr0.1_wd0.0001/patience7/run1/logs.txt', 'output_dir/mammo-cbis/sup_vitb16_imagenet21k/prompt50/size500/test/seed9805/lrNone_wdNone/patience7/run1/logs.txt', 'output_dir/mammo-cbis/sup_vitb16_imagenet21k/prompt50/crop896/test/seed875/lr0.25_wd0.0/patience7/run1/logs.txt', 'output_dir/mammo-cbis/sup_vitb16_imagenet21k/prompt50/crop896/test/seed9805/lr0.25_wd0.0/patience7/run1/logs.txt', 'output_dir/mammo-cbis/sup_vitb16_imagenet21k/prompt50/crop896/test/seed3172/lr0.25_wd0.0/patience7/run1/logs.txt', 'output_dir/mammo-cbis/sup_vitb16_imagenet21k/prompt50/crop896/test/seed8393/lr0.25_wd0.0/patience7/run1/logs.txt', 'output_dir/mammo-cbis/sup_vitb16_imagenet21k/prompt50/crop896/test/seed4536/lr0.25_wd0.0/patience7/run1/logs.txt', 'output_dir/mammo-cbis/sup_vitb16_imagenet21k/prompt50/size200/test/seed9805/lrNone_wdNone/patience7/run1/logs.txt', 'output_dir/mammo-cbis/sup_vitb16_imagenet21k/prompt50/crop224/test/seed875/lr0.1_wd0.0/patience7/run1/logs.txt', 'output_dir/mammo-cbis/sup_vitb16_imagenet21k/prompt50/crop224/test/seed9805/lr0.1_wd0.0/patience7/run1/logs.txt', 'output_dir/mammo-cbis/sup_vitb16_imagenet21k/prompt50/crop224/test/seed3172/lr0.1_wd0.0/patience7/run1/logs.txt', 'output_dir/mammo-cbis/sup_vitb16_imagenet21k/prompt50/crop224/test/seed8393/lr0.1_wd0.0/patience7/run1/logs.txt', 'output_dir/mammo-cbis/sup_vitb16_imagenet21k/prompt50/crop224/test/seed4536/lr0.1_wd0.0/patience7/run1/logs.txt', 'output_dir/mammo-cbis/sup_vitb16_imagenet21k/prompt50/crop672/test/seed875/lr1.0_wd0.0/patience7/run1/logs.txt', 'output_dir/mammo-cbis/sup_vitb16_imagenet21k/prompt50/crop672/test/seed9805/lr1.0_wd0.0/patience7/run1/logs.txt', 'output_dir/mammo-cbis/sup_vitb16_imagenet21k/prompt50/crop672/test/seed3172/lr1.0_wd0.0/patience7/run1/logs.txt', 'output_dir/mammo-cbis/sup_vitb16_imagenet21k/prompt50/crop672/test/seed8393/lr1.0_wd0.0/patience7/run1/logs.txt', 'output_dir/mammo-cbis/sup_vitb16_imagenet21k/prompt50/crop672/test/seed4536/lr1.0_wd0.0/patience7/run1/logs.txt', 'output_dir/vtab-clevr(task=\"closest_object_distance\")/sup_vitb16_imagenet21k/prompt50/crop224/test/seed2426/lr5.0_wd0.001/patience300/run1/logs.txt', 'output_dir/vtab-clevr(task=\"closest_object_distance\")/sup_vitb16_imagenet21k/prompt50/crop224/test/seed6110/lr5.0_wd0.001/patience300/run1/logs.txt', 'output_dir/vtab-clevr(task=\"closest_object_distance\")/sup_vitb16_imagenet21k/prompt50/crop224/test/seed6183/lr5.0_wd0.001/patience300/run1/logs.txt', 'output_dir/vtab-clevr(task=\"closest_object_distance\")/sup_vitb16_imagenet21k/prompt50/crop224/test/seed2041/lr5.0_wd0.001/patience300/run1/logs.txt', 'output_dir/vtab-clevr(task=\"closest_object_distance\")/sup_vitb16_imagenet21k/prompt50/crop224/test/seed66/lr5.0_wd0.001/patience300/run1/logs.txt', 'output_dir/vtab-diabetic_retinopathy(config=\"btgraham-300\")/sup_vitb16_imagenet21k/prompt50/crop224/test/seed3019/lr1.0_wd0.001/patience300/run1/logs.txt', 'output_dir/vtab-diabetic_retinopathy(config=\"btgraham-300\")/sup_vitb16_imagenet21k/prompt50/crop224/test/seed6824/lr1.0_wd0.001/patience300/run1/logs.txt', 'output_dir/vtab-diabetic_retinopathy(config=\"btgraham-300\")/sup_vitb16_imagenet21k/prompt50/crop224/test/seed1487/lr1.0_wd0.001/patience300/run1/logs.txt', 'output_dir/vtab-diabetic_retinopathy(config=\"btgraham-300\")/sup_vitb16_imagenet21k/prompt50/crop224/test/seed2062/lr1.0_wd0.001/patience300/run1/logs.txt', 'output_dir/vtab-diabetic_retinopathy(config=\"btgraham-300\")/sup_vitb16_imagenet21k/prompt50/crop224/test/seed3472/lr1.0_wd0.001/patience300/run1/logs.txt', 'output_dir/vtab-clevr(task=\"count_all\")/sup_vitb16_imagenet21k/prompt50/crop224/test/seed4027/lr0.1_wd0.0/patience300/run1/logs.txt', 'output_dir/vtab-clevr(task=\"count_all\")/sup_vitb16_imagenet21k/prompt50/crop224/test/seed2841/lr0.1_wd0.0/patience300/run1/logs.txt', 'output_dir/vtab-clevr(task=\"count_all\")/sup_vitb16_imagenet21k/prompt50/crop224/test/seed3031/lr0.1_wd0.0/patience300/run1/logs.txt', 'output_dir/vtab-clevr(task=\"count_all\")/sup_vitb16_imagenet21k/prompt50/crop224/test/seed6483/lr0.1_wd0.0/patience300/run1/logs.txt', 'output_dir/vtab-clevr(task=\"count_all\")/sup_vitb16_imagenet21k/prompt50/crop224/test/seed1183/lr0.1_wd0.0/patience300/run1/logs.txt', 'output_dir/vtab-dsprites(predicted_attribute=\"label_x_position\",num_classes=16)/sup_vitb16_imagenet21k/prompt50/crop224/test/seed9805/lr1.0_wd0.0/patience300/run1/logs.txt', 'output_dir/vtab-oxford_iiit_pet/sup_vitb16_imagenet21k/prompt50/crop224/test/seed8614/lr0.05_wd0.01/patience300/run1/logs.txt', 'output_dir/vtab-oxford_iiit_pet/sup_vitb16_imagenet21k/prompt50/crop224/test/seed2390/lr0.05_wd0.01/patience300/run1/logs.txt', 'output_dir/vtab-oxford_iiit_pet/sup_vitb16_imagenet21k/prompt50/crop224/test/seed6600/lr0.05_wd0.01/patience300/run1/logs.txt', 'output_dir/vtab-oxford_iiit_pet/sup_vitb16_imagenet21k/prompt50/crop224/test/seed5458/lr0.05_wd0.01/patience300/run1/logs.txt', 'output_dir/vtab-oxford_iiit_pet/sup_vitb16_imagenet21k/prompt50/crop224/test/seed6004/lr0.05_wd0.01/patience300/run1/logs.txt', 'output_dir/vtab-oxford_flowers102/sup_vitb16_imagenet21k/prompt50/crop224/test/seed7810/lr2.5_wd0.01/patience300/run1/logs.txt', 'output_dir/vtab-oxford_flowers102/sup_vitb16_imagenet21k/prompt50/crop224/test/seed5416/lr2.5_wd0.01/patience300/run1/logs.txt', 'output_dir/vtab-oxford_flowers102/sup_vitb16_imagenet21k/prompt50/crop224/test/seed5137/lr2.5_wd0.01/patience300/run1/logs.txt', 'output_dir/vtab-oxford_flowers102/sup_vitb16_imagenet21k/prompt50/crop224/test/seed8810/lr2.5_wd0.01/patience300/run1/logs.txt', 'output_dir/vtab-oxford_flowers102/sup_vitb16_imagenet21k/prompt50/crop224/test/seed3509/lr2.5_wd0.01/patience300/run1/logs.txt', 'output_dir/vtab-eurosat/sup_vitb16_imagenet21k/prompt50/crop224/test/seed8941/lr0.05_wd0.01/patience300/run1/logs.txt', 'output_dir/vtab-eurosat/sup_vitb16_imagenet21k/prompt50/crop224/test/seed4267/lr0.05_wd0.01/patience300/run1/logs.txt', 'output_dir/vtab-eurosat/sup_vitb16_imagenet21k/prompt50/crop224/test/seed6140/lr0.05_wd0.01/patience300/run1/logs.txt', 'output_dir/vtab-eurosat/sup_vitb16_imagenet21k/prompt50/crop224/test/seed418/lr0.05_wd0.01/patience300/run1/logs.txt', 'output_dir/vtab-eurosat/sup_vitb16_imagenet21k/prompt50/crop224/test/seed8983/lr0.05_wd0.01/patience300/run1/logs.txt', 'output_dir/vtab-dmlab/sup_vitb16_imagenet21k/prompt50/crop224/test/seed875/lr1.0_wd0.001/patience300/run1/logs.txt', 'output_dir/vtab-dmlab/sup_vitb16_imagenet21k/prompt50/crop224/test/seed9805/lr1.0_wd0.001/patience300/run1/logs.txt', 'output_dir/vtab-dmlab/sup_vitb16_imagenet21k/prompt50/crop224/test/seed3172/lr1.0_wd0.001/patience300/run1/logs.txt', 'output_dir/vtab-dmlab/sup_vitb16_imagenet21k/prompt50/crop224/test/seed8393/lr1.0_wd0.001/patience300/run1/logs.txt', 'output_dir/vtab-dmlab/sup_vitb16_imagenet21k/prompt50/crop224/test/seed4536/lr1.0_wd0.001/patience300/run1/logs.txt', 'output_dir/vtab-cifar(num_classes=100)/sup_vitb16_imagenet21k/prompt50/crop224/test/seed1188/lr0.5_wd0.001/patience300/run1/logs.txt', 'output_dir/vtab-cifar(num_classes=100)/sup_vitb16_imagenet21k/prompt50/crop224/test/seed7190/lr0.5_wd0.001/patience300/run1/logs.txt', 'output_dir/vtab-cifar(num_classes=100)/sup_vitb16_imagenet21k/prompt50/crop224/test/seed3157/lr0.5_wd0.001/patience300/run1/logs.txt', 'output_dir/vtab-cifar(num_classes=100)/sup_vitb16_imagenet21k/prompt50/crop224/test/seed2132/lr0.5_wd0.001/patience300/run1/logs.txt', 'output_dir/vtab-cifar(num_classes=100)/sup_vitb16_imagenet21k/prompt50/crop224/test/seed9286/lr0.5_wd0.001/patience300/run1/logs.txt', 'output_dir/vtab-smallnorb(predicted_attribute=\"label_elevation\")/sup_vitb16_imagenet21k/prompt50/crop224/test/seed4755/lr1.0_wd0.0001/patience300/run1/logs.txt', 'output_dir/vtab-smallnorb(predicted_attribute=\"label_elevation\")/sup_vitb16_imagenet21k/prompt50/crop224/test/seed2524/lr1.0_wd0.0001/patience300/run1/logs.txt', 'output_dir/vtab-smallnorb(predicted_attribute=\"label_elevation\")/sup_vitb16_imagenet21k/prompt50/crop224/test/seed4228/lr1.0_wd0.0001/patience300/run1/logs.txt', 'output_dir/vtab-smallnorb(predicted_attribute=\"label_elevation\")/sup_vitb16_imagenet21k/prompt50/crop224/test/seed3449/lr1.0_wd0.0001/patience300/run1/logs.txt', 'output_dir/vtab-smallnorb(predicted_attribute=\"label_elevation\")/sup_vitb16_imagenet21k/prompt50/crop224/test/seed1332/lr1.0_wd0.0001/patience300/run1/logs.txt', 'output_dir/vtab-kitti(task=\"closest_vehicle_distance\")/sup_vitb16_imagenet21k/prompt50/crop224/test/seed6872/lr0.5_wd0.001/patience300/run1/logs.txt', 'output_dir/vtab-kitti(task=\"closest_vehicle_distance\")/sup_vitb16_imagenet21k/prompt50/crop224/test/seed4395/lr0.5_wd0.001/patience300/run1/logs.txt', 'output_dir/vtab-kitti(task=\"closest_vehicle_distance\")/sup_vitb16_imagenet21k/prompt50/crop224/test/seed9094/lr0.5_wd0.001/patience300/run1/logs.txt', 'output_dir/vtab-kitti(task=\"closest_vehicle_distance\")/sup_vitb16_imagenet21k/prompt50/crop224/test/seed6123/lr0.5_wd0.001/patience300/run1/logs.txt', 'output_dir/vtab-kitti(task=\"closest_vehicle_distance\")/sup_vitb16_imagenet21k/prompt50/crop224/test/seed7275/lr0.5_wd0.001/patience300/run1/logs.txt', 'output_dir/vtab-patch_camelyon/sup_vitb16_imagenet21k/prompt50/crop224/test/seed875/lr0.25_wd0.0/patience300/run1/logs.txt', 'output_dir/vtab-patch_camelyon/sup_vitb16_imagenet21k/prompt50/crop224/test/seed9805/lr0.25_wd0.0/patience300/run1/logs.txt', 'output_dir/vtab-patch_camelyon/sup_vitb16_imagenet21k/prompt50/crop224/test/seed3172/lr0.25_wd0.0/patience300/run1/logs.txt', 'output_dir/vtab-patch_camelyon/sup_vitb16_imagenet21k/prompt50/crop224/test/seed8393/lr0.25_wd0.0/patience300/run1/logs.txt', 'output_dir/vtab-patch_camelyon/sup_vitb16_imagenet21k/prompt50/crop224/test/seed4536/lr0.25_wd0.0/patience300/run1/logs.txt', 'output_dir/vtab-sun397/sup_vitb16_imagenet21k/prompt50/crop224/test/seed875/lr2.5_wd0.001/patience300/run1/logs.txt', 'output_dir/vtab-sun397/sup_vitb16_imagenet21k/prompt50/crop224/test/seed9805/lr2.5_wd0.001/patience300/run1/logs.txt', 'output_dir/vtab-sun397/sup_vitb16_imagenet21k/prompt50/crop224/test/seed3172/lr2.5_wd0.001/patience300/run1/logs.txt', 'output_dir/vtab-sun397/sup_vitb16_imagenet21k/prompt50/crop224/test/seed8393/lr2.5_wd0.001/patience300/run1/logs.txt', 'output_dir/vtab-sun397/sup_vitb16_imagenet21k/prompt50/crop224/test/seed4536/lr2.5_wd0.001/patience300/run1/logs.txt', 'output_dir/vtab-resisc45/sup_vitb16_imagenet21k/prompt50/crop224/test/seed7341/lr2.5_wd0.001/patience300/run1/logs.txt', 'output_dir/vtab-resisc45/sup_vitb16_imagenet21k/prompt50/crop224/test/seed2690/lr2.5_wd0.001/patience300/run1/logs.txt', 'output_dir/vtab-resisc45/sup_vitb16_imagenet21k/prompt50/crop224/test/seed2758/lr2.5_wd0.001/patience300/run1/logs.txt', 'output_dir/vtab-resisc45/sup_vitb16_imagenet21k/prompt50/crop224/test/seed9110/lr2.5_wd0.001/patience300/run1/logs.txt', 'output_dir/vtab-resisc45/sup_vitb16_imagenet21k/prompt50/crop224/test/seed7037/lr2.5_wd0.001/patience300/run1/logs.txt', 'output_dir/vtab-dtd/sup_vitb16_imagenet21k/prompt50/crop224/test/seed737/lr5.0_wd0.001/patience300/run1/logs.txt', 'output_dir/vtab-dtd/sup_vitb16_imagenet21k/prompt50/crop224/test/seed5168/lr5.0_wd0.001/patience300/run1/logs.txt', 'output_dir/vtab-dtd/sup_vitb16_imagenet21k/prompt50/crop224/test/seed2845/lr5.0_wd0.001/patience300/run1/logs.txt', 'output_dir/vtab-dtd/sup_vitb16_imagenet21k/prompt50/crop224/test/seed8490/lr5.0_wd0.001/patience300/run1/logs.txt', 'output_dir/vtab-dtd/sup_vitb16_imagenet21k/prompt50/crop224/test/seed8786/lr5.0_wd0.001/patience300/run1/logs.txt', 'output_dir/vtab-svhn/sup_vitb16_imagenet21k/prompt50/crop224/test/seed875/lr0.5_wd0.001/patience300/run1/logs.txt', 'output_dir/vtab-svhn/sup_vitb16_imagenet21k/prompt50/crop224/test/seed9805/lr0.5_wd0.001/patience300/run1/logs.txt', 'output_dir/vtab-caltech101/sup_vitb16_imagenet21k/prompt50/crop224/test/seed9666/lr1.0_wd0.001/patience300/run1/logs.txt', 'output_dir/vtab-caltech101/sup_vitb16_imagenet21k/prompt50/crop224/test/seed9585/lr1.0_wd0.001/patience300/run1/logs.txt', 'output_dir/vtab-caltech101/sup_vitb16_imagenet21k/prompt50/crop224/test/seed9640/lr1.0_wd0.001/patience300/run1/logs.txt', 'output_dir/vtab-caltech101/sup_vitb16_imagenet21k/prompt50/crop224/test/seed7022/lr1.0_wd0.001/patience300/run1/logs.txt', 'output_dir/vtab-caltech101/sup_vitb16_imagenet21k/prompt50/crop224/test/seed236/lr1.0_wd0.001/patience300/run1/logs.txt', 'output_dir/vtab-dsprites(predicted_attribute=\"label_orientation\",num_classes=16)/sup_vitb16_imagenet21k/prompt50/crop224/test/seed875/lr0.1_wd0.001/patience300/run1/logs.txt', 'output_dir/vtab-dsprites(predicted_attribute=\"label_orientation\",num_classes=16)/sup_vitb16_imagenet21k/prompt50/crop224/test/seed9805/lr0.1_wd0.001/patience300/run1/logs.txt', 'output_dir/vtab-smallnorb(predicted_attribute=\"label_azimuth\")/sup_vitb16_imagenet21k/prompt50/crop224/test/seed8364/lr0.25_wd0.001/patience300/run1/logs.txt', 'output_dir/vtab-smallnorb(predicted_attribute=\"label_azimuth\")/sup_vitb16_imagenet21k/prompt50/crop224/test/seed4972/lr0.25_wd0.001/patience300/run1/logs.txt', 'output_dir/vtab-smallnorb(predicted_attribute=\"label_azimuth\")/sup_vitb16_imagenet21k/prompt50/crop224/test/seed7290/lr0.25_wd0.001/patience300/run1/logs.txt', 'output_dir/vtab-smallnorb(predicted_attribute=\"label_azimuth\")/sup_vitb16_imagenet21k/prompt50/crop224/test/seed5877/lr0.25_wd0.001/patience300/run1/logs.txt', 'output_dir/vtab-smallnorb(predicted_attribute=\"label_azimuth\")/sup_vitb16_imagenet21k/prompt50/crop224/test/seed6530/lr0.25_wd0.001/patience300/run1/logs.txt']\n"
     ]
    },
    {
     "name": "stderr",
     "output_type": "stream",
     "text": [
      "  5%|▍         | 5/107 [00:00<00:00, 1687.58it/s]"
     ]
    },
    {
     "name": "stdout",
     "output_type": "stream",
     "text": [
      "bier\n",
      "output_dir/mammo-cbis/sup_vitb16_imagenet21k/prompt50/size500/test/seed9805/lrNone_wdNone/patience7/run1/logs.txt\n"
     ]
    },
    {
     "name": "stderr",
     "output_type": "stream",
     "text": [
      "\n"
     ]
    },
    {
     "ename": "TypeError",
     "evalue": "cannot unpack non-iterable NoneType object",
     "output_type": "error",
     "traceback": [
      "\u001B[0;31m---------------------------------------------------------------------------\u001B[0m",
      "\u001B[0;31mTypeError\u001B[0m                                 Traceback (most recent call last)",
      "Cell \u001B[0;32mIn[3], line 6\u001B[0m\n\u001B[1;32m      4\u001B[0m files \u001B[38;5;241m=\u001B[39m glob\u001B[38;5;241m.\u001B[39mglob(pattern)\n\u001B[1;32m      5\u001B[0m \u001B[38;5;28mprint\u001B[39m(files)\n\u001B[0;32m----> 6\u001B[0m df \u001B[38;5;241m=\u001B[39m get_df(files, is_best\u001B[38;5;241m=\u001B[39m\u001B[38;5;28;01mTrue\u001B[39;00m, is_last\u001B[38;5;241m=\u001B[39m\u001B[38;5;28;01mFalse\u001B[39;00m)\n",
      "File \u001B[0;32m~/Documents/Studie/Master/2022-2023/Thesis/Final Project/implementation/visual_prompt_tuning/src/utils/vis_utils.py:195\u001B[0m, in \u001B[0;36mget_df\u001B[0;34m(files, is_best, is_last)\u001B[0m\n\u001B[1;32m    193\u001B[0m pd_dict \u001B[38;5;241m=\u001B[39m defaultdict(\u001B[38;5;28mlist\u001B[39m)\n\u001B[1;32m    194\u001B[0m \u001B[38;5;28;01mfor\u001B[39;00m job_path \u001B[38;5;129;01min\u001B[39;00m tqdm(files):\n\u001B[0;32m--> 195\u001B[0m     train_loss, eval_results, meta_dict, (v_top1, t_top1) \u001B[38;5;241m=\u001B[39m get_training_data(job_path)\n\u001B[1;32m    197\u001B[0m     \u001B[38;5;28;01mif\u001B[39;00m \u001B[38;5;28mlen\u001B[39m(eval_results) \u001B[38;5;241m==\u001B[39m \u001B[38;5;241m0\u001B[39m:\n\u001B[1;32m    198\u001B[0m         \u001B[38;5;28mprint\u001B[39m(\u001B[38;5;124mf\u001B[39m\u001B[38;5;124m\"\u001B[39m\u001B[38;5;124mjob \u001B[39m\u001B[38;5;132;01m{\u001B[39;00mjob_path\u001B[38;5;132;01m}\u001B[39;00m\u001B[38;5;124m not ready\u001B[39m\u001B[38;5;124m\"\u001B[39m)\n",
      "File \u001B[0;32m~/Documents/Studie/Master/2022-2023/Thesis/Final Project/implementation/visual_prompt_tuning/src/utils/vis_utils.py:115\u001B[0m, in \u001B[0;36mget_training_data\u001B[0;34m(job_path)\u001B[0m\n\u001B[1;32m    114\u001B[0m \u001B[38;5;28;01mdef\u001B[39;00m \u001B[38;5;21mget_training_data\u001B[39m(job_path):\n\u001B[0;32m--> 115\u001B[0m     data_name, feat_type, transfer_type, img_size, cropped, eval_set, seed, lr, wd, patience \u001B[38;5;241m=\u001B[39m get_meta(job_path)\n\u001B[1;32m    116\u001B[0m     \u001B[38;5;28;01mwith\u001B[39;00m \u001B[38;5;28mopen\u001B[39m(job_path) \u001B[38;5;28;01mas\u001B[39;00m f:\n\u001B[1;32m    117\u001B[0m         lines \u001B[38;5;241m=\u001B[39m f\u001B[38;5;241m.\u001B[39mreadlines()\n",
      "\u001B[0;31mTypeError\u001B[0m: cannot unpack non-iterable NoneType object"
     ]
    }
   ],
   "source": [
    "root = \"output_dir\"\n",
    "df_list=[]\n",
    "pattern = f\"{root}/*/sup_vitb16_imagenet21k/*/*/test/*/*/*/*/logs.txt\"\n",
    "files = glob.glob(pattern)\n",
    "print(files)\n",
    "df = get_df(files, is_best=True, is_last=False)\n",
    "#         df = get_df(files, f\"seed{seed}\", root, is_best=False, is_last=True)\n",
    "#         if df is None:\n",
    "#             continue\n",
    "#         df[\"seed\"] = seed\n",
    "#         df_list.append(df)\n",
    "# df = pd.concat(df_list)\n",
    "# df[\"type\"] = \"VPT\""
   ],
   "metadata": {
    "collapsed": false,
    "ExecuteTime": {
     "end_time": "2023-11-13T14:25:38.032628912Z",
     "start_time": "2023-11-13T14:25:37.607505415Z"
    }
   },
   "id": "6d075fed3f7725ae"
  },
  {
   "cell_type": "code",
   "execution_count": null,
   "outputs": [],
   "source": [
    "display(df)"
   ],
   "metadata": {
    "collapsed": false,
    "ExecuteTime": {
     "start_time": "2023-11-13T13:35:56.875258909Z"
    }
   },
   "id": "77da8ffcf14e61ae"
  },
  {
   "cell_type": "code",
   "execution_count": null,
   "outputs": [],
   "source": [
    "img_sizes = set([(row.img_size, row.cropped) for index, row in df[['img_size', 'cropped']].iterrows()])\n",
    "print(img_sizes)\n",
    "averages_per_img_size = []\n",
    "for (img_size, cropped) in img_sizes:\n",
    "    df_for_crop = df.where((df[\"cropped\"]==cropped) & (df['img_size']==img_size)).dropna()\n",
    "    # print(len(df_for_crop))\n",
    "    # display(df_for_crop)\n",
    "    average_df(df_for_crop, metric_names=[\"b-test_top1\"], take_average=True)\n",
    "    averages_per_img_size.append(average_df(df_for_crop, metric_names=[\"b-test_top1\"], take_average=True))\n",
    "\n",
    "avg_df = pd.concat(averages_per_img_size)\n",
    "display(avg_df.sort_values('data'))\n",
    "# f_df = average_df(df, metric_names=[\"b-test_top1\"], take_average=True)\n",
    "# f_df"
   ],
   "metadata": {
    "collapsed": false,
    "ExecuteTime": {
     "start_time": "2023-11-13T13:35:56.877949838Z"
    }
   },
   "id": "38120f666b8b4492"
  },
  {
   "cell_type": "code",
   "execution_count": 4,
   "outputs": [
    {
     "ename": "NameError",
     "evalue": "name 'df' is not defined",
     "output_type": "error",
     "traceback": [
      "\u001B[0;31m---------------------------------------------------------------------------\u001B[0m",
      "\u001B[0;31mNameError\u001B[0m                                 Traceback (most recent call last)",
      "Cell \u001B[0;32mIn[4], line 3\u001B[0m\n\u001B[1;32m      1\u001B[0m \u001B[38;5;66;03m# average per dataset:\u001B[39;00m\n\u001B[1;32m      2\u001B[0m distinguishing_columns \u001B[38;5;241m=\u001B[39m [\u001B[38;5;124m'\u001B[39m\u001B[38;5;124mdata\u001B[39m\u001B[38;5;124m'\u001B[39m, \u001B[38;5;124m'\u001B[39m\u001B[38;5;124mfeature\u001B[39m\u001B[38;5;124m'\u001B[39m, \u001B[38;5;124m'\u001B[39m\u001B[38;5;124mtransfer\u001B[39m\u001B[38;5;124m'\u001B[39m, \u001B[38;5;124m'\u001B[39m\u001B[38;5;124mimg_size\u001B[39m\u001B[38;5;124m'\u001B[39m, \u001B[38;5;124m'\u001B[39m\u001B[38;5;124mcropped\u001B[39m\u001B[38;5;124m'\u001B[39m, \u001B[38;5;124m'\u001B[39m\u001B[38;5;124mlr\u001B[39m\u001B[38;5;124m'\u001B[39m, \u001B[38;5;124m'\u001B[39m\u001B[38;5;124mwd\u001B[39m\u001B[38;5;124m'\u001B[39m, \u001B[38;5;124m'\u001B[39m\u001B[38;5;124mbatch_size\u001B[39m\u001B[38;5;124m'\u001B[39m, \u001B[38;5;124m'\u001B[39m\u001B[38;5;124mpatience\u001B[39m\u001B[38;5;124m'\u001B[39m, \u001B[38;5;124m'\u001B[39m\u001B[38;5;124meval_set\u001B[39m\u001B[38;5;124m'\u001B[39m]\n\u001B[0;32m----> 3\u001B[0m df_agg \u001B[38;5;241m=\u001B[39m df[[\u001B[38;5;241m*\u001B[39mdistinguishing_columns, \u001B[38;5;124m'\u001B[39m\u001B[38;5;124mb-test_top1\u001B[39m\u001B[38;5;124m'\u001B[39m, \u001B[38;5;124m'\u001B[39m\u001B[38;5;124mb-val_top1\u001B[39m\u001B[38;5;124m'\u001B[39m, \u001B[38;5;124m'\u001B[39m\u001B[38;5;124mtotal_epochs\u001B[39m\u001B[38;5;124m'\u001B[39m]]\u001B[38;5;241m.\u001B[39mgroupby(distinguishing_columns)\u001B[38;5;241m.\u001B[39magg({\u001B[38;5;124m'\u001B[39m\u001B[38;5;124mb-test_top1\u001B[39m\u001B[38;5;124m'\u001B[39m: [\u001B[38;5;124m'\u001B[39m\u001B[38;5;124mmean\u001B[39m\u001B[38;5;124m'\u001B[39m, \u001B[38;5;124m'\u001B[39m\u001B[38;5;124mstd\u001B[39m\u001B[38;5;124m'\u001B[39m, \u001B[38;5;124m'\u001B[39m\u001B[38;5;124mcount\u001B[39m\u001B[38;5;124m'\u001B[39m], \u001B[38;5;124m'\u001B[39m\u001B[38;5;124mb-val_top1\u001B[39m\u001B[38;5;124m'\u001B[39m: [\u001B[38;5;124m'\u001B[39m\u001B[38;5;124mmean\u001B[39m\u001B[38;5;124m'\u001B[39m, \u001B[38;5;124m'\u001B[39m\u001B[38;5;124mstd\u001B[39m\u001B[38;5;124m'\u001B[39m, \u001B[38;5;124m'\u001B[39m\u001B[38;5;124mcount\u001B[39m\u001B[38;5;124m'\u001B[39m], \u001B[38;5;124m'\u001B[39m\u001B[38;5;124mtotal_epochs\u001B[39m\u001B[38;5;124m'\u001B[39m: \u001B[38;5;124m'\u001B[39m\u001B[38;5;124mmean\u001B[39m\u001B[38;5;124m'\u001B[39m})\n\u001B[1;32m      4\u001B[0m display(df_agg)\n",
      "\u001B[0;31mNameError\u001B[0m: name 'df' is not defined"
     ]
    }
   ],
   "source": [
    "# average per dataset:\n",
    "distinguishing_columns = ['data', 'feature', 'transfer', 'img_size', 'cropped', 'lr', 'wd', 'batch_size', 'patience', 'eval_set']\n",
    "df_agg = df[[*distinguishing_columns, 'b-test_top1', 'b-val_top1', 'total_epochs']].groupby(distinguishing_columns).agg({'b-test_top1': ['mean', 'std', 'count'], 'b-val_top1': ['mean', 'std', 'count'], 'total_epochs': 'mean'})\n",
    "display(df_agg)"
   ],
   "metadata": {
    "collapsed": false,
    "ExecuteTime": {
     "end_time": "2023-11-13T13:35:58.081836700Z",
     "start_time": "2023-11-13T13:35:58.049624495Z"
    }
   },
   "id": "8385f47badc389fa"
  },
  {
   "cell_type": "code",
   "execution_count": null,
   "outputs": [],
   "source": [],
   "metadata": {
    "collapsed": false
   },
   "id": "8b2712443c5c17be"
  }
 ],
 "metadata": {
  "kernelspec": {
   "display_name": "Python 3",
   "language": "python",
   "name": "python3"
  },
  "language_info": {
   "codemirror_mode": {
    "name": "ipython",
    "version": 2
   },
   "file_extension": ".py",
   "mimetype": "text/x-python",
   "name": "python",
   "nbconvert_exporter": "python",
   "pygments_lexer": "ipython2",
   "version": "2.7.6"
  }
 },
 "nbformat": 4,
 "nbformat_minor": 5
}
