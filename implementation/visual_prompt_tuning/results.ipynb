{
 "cells": [
  {
   "cell_type": "code",
   "execution_count": 1,
   "id": "initial_id",
   "metadata": {
    "collapsed": true,
    "ExecuteTime": {
     "end_time": "2023-09-30T15:14:26.680810039Z",
     "start_time": "2023-09-30T15:14:23.407892759Z"
    }
   },
   "outputs": [],
   "source": [
    "import glob\n",
    "import pandas as pd\n",
    "\n",
    "from src.utils.vis_utils import get_df, average_df"
   ]
  },
  {
   "cell_type": "code",
   "execution_count": 3,
   "outputs": [],
   "source": [
    "LOG_NAME=\"logs.txt\"\n",
    "pd.set_option(\"display.max_columns\", None)\n",
    "pd.set_option(\"display.max_rows\", None)"
   ],
   "metadata": {
    "collapsed": false,
    "ExecuteTime": {
     "end_time": "2023-09-30T15:16:38.334338168Z",
     "start_time": "2023-09-30T15:16:38.329267793Z"
    }
   },
   "id": "d93ece7a383f9354"
  },
  {
   "cell_type": "code",
   "execution_count": 9,
   "outputs": [
    {
     "name": "stdout",
     "output_type": "stream",
     "text": [
      "output_dir/*/sup_vitb16_imagenet21k/*/*/test/*/*/*/logs.txt\n",
      "74\n",
      "output_dir/vtab-clevr(task=\"closest_object_distance\")/sup_vitb16_imagenet21k/prompt50/crop224/test/seed2426/lr5.0_wd0.001/run1/logs.txt\n",
      "output_dir/vtab-clevr(task=\"closest_object_distance\")/sup_vitb16_imagenet21k/prompt50/crop224/test/seed6110/lr5.0_wd0.001/run1/logs.txt\n",
      "output_dir/vtab-clevr(task=\"closest_object_distance\")/sup_vitb16_imagenet21k/prompt50/crop224/test/seed6183/lr5.0_wd0.001/run1/logs.txt\n",
      "output_dir/vtab-clevr(task=\"closest_object_distance\")/sup_vitb16_imagenet21k/prompt50/crop224/test/seed2041/lr5.0_wd0.001/run1/logs.txt\n",
      "output_dir/vtab-clevr(task=\"closest_object_distance\")/sup_vitb16_imagenet21k/prompt50/crop224/test/seed66/lr5.0_wd0.001/run1/logs.txt\n",
      "output_dir/vtab-diabetic_retinopathy(config=\"btgraham-300\")/sup_vitb16_imagenet21k/prompt50/crop224/test/seed3019/lr1.0_wd0.001/run1/logs.txt\n",
      "output_dir/vtab-diabetic_retinopathy(config=\"btgraham-300\")/sup_vitb16_imagenet21k/prompt50/crop224/test/seed6824/lr1.0_wd0.001/run1/logs.txt\n",
      "output_dir/vtab-diabetic_retinopathy(config=\"btgraham-300\")/sup_vitb16_imagenet21k/prompt50/crop224/test/seed1487/lr1.0_wd0.001/run1/logs.txt\n",
      "output_dir/vtab-diabetic_retinopathy(config=\"btgraham-300\")/sup_vitb16_imagenet21k/prompt50/crop224/test/seed2062/lr1.0_wd0.001/run1/logs.txt\n",
      "output_dir/vtab-diabetic_retinopathy(config=\"btgraham-300\")/sup_vitb16_imagenet21k/prompt50/crop224/test/seed3472/lr1.0_wd0.001/run1/logs.txt\n",
      "output_dir/vtab-clevr(task=\"count_all\")/sup_vitb16_imagenet21k/prompt50/crop224/test/seed4027/lr0.1_wd0.0/run1/logs.txt\n",
      "output_dir/vtab-clevr(task=\"count_all\")/sup_vitb16_imagenet21k/prompt50/crop224/test/seed2841/lr0.1_wd0.0/run1/logs.txt\n",
      "output_dir/vtab-clevr(task=\"count_all\")/sup_vitb16_imagenet21k/prompt50/crop224/test/seed3031/lr0.1_wd0.0/run1/logs.txt\n",
      "output_dir/vtab-clevr(task=\"count_all\")/sup_vitb16_imagenet21k/prompt50/crop224/test/seed6483/lr0.1_wd0.0/run1/logs.txt\n",
      "output_dir/vtab-clevr(task=\"count_all\")/sup_vitb16_imagenet21k/prompt50/crop224/test/seed1183/lr0.1_wd0.0/run1/logs.txt\n",
      "output_dir/vtab-dsprites(predicted_attribute=\"label_x_position\",num_classes=16)/sup_vitb16_imagenet21k/prompt50/crop224/test/seed438/lr1.0_wd0.0/run1/logs.txt\n",
      "output_dir/vtab-oxford_iiit_pet/sup_vitb16_imagenet21k/prompt50/crop224/test/seed8614/lr0.05_wd0.01/run1/logs.txt\n",
      "output_dir/vtab-oxford_iiit_pet/sup_vitb16_imagenet21k/prompt50/crop224/test/seed2390/lr0.05_wd0.01/run1/logs.txt\n",
      "output_dir/vtab-oxford_iiit_pet/sup_vitb16_imagenet21k/prompt50/crop224/test/seed6600/lr0.05_wd0.01/run1/logs.txt\n",
      "output_dir/vtab-oxford_iiit_pet/sup_vitb16_imagenet21k/prompt50/crop224/test/seed5458/lr0.05_wd0.01/run1/logs.txt\n",
      "output_dir/vtab-oxford_iiit_pet/sup_vitb16_imagenet21k/prompt50/crop224/test/seed6004/lr0.05_wd0.01/run1/logs.txt\n",
      "output_dir/vtab-oxford_flowers102/sup_vitb16_imagenet21k/prompt50/crop224/test/seed7810/lr2.5_wd0.01/run1/logs.txt\n",
      "output_dir/vtab-oxford_flowers102/sup_vitb16_imagenet21k/prompt50/crop224/test/seed5416/lr2.5_wd0.01/run1/logs.txt\n",
      "output_dir/vtab-oxford_flowers102/sup_vitb16_imagenet21k/prompt50/crop224/test/seed5137/lr2.5_wd0.01/run1/logs.txt\n",
      "output_dir/vtab-oxford_flowers102/sup_vitb16_imagenet21k/prompt50/crop224/test/seed8810/lr2.5_wd0.01/run1/logs.txt\n",
      "output_dir/vtab-oxford_flowers102/sup_vitb16_imagenet21k/prompt50/crop224/test/seed3509/lr2.5_wd0.01/run1/logs.txt\n",
      "output_dir/vtab-eurosat/sup_vitb16_imagenet21k/prompt50/crop224/test/seed8941/lr0.05_wd0.01/run1/logs.txt\n",
      "output_dir/vtab-eurosat/sup_vitb16_imagenet21k/prompt50/crop224/test/seed4267/lr0.05_wd0.01/run1/logs.txt\n",
      "output_dir/vtab-eurosat/sup_vitb16_imagenet21k/prompt50/crop224/test/seed6140/lr0.05_wd0.01/run1/logs.txt\n",
      "output_dir/vtab-eurosat/sup_vitb16_imagenet21k/prompt50/crop224/test/seed418/lr0.05_wd0.01/run1/logs.txt\n",
      "output_dir/vtab-eurosat/sup_vitb16_imagenet21k/prompt50/crop224/test/seed8983/lr0.05_wd0.01/run1/logs.txt\n",
      "output_dir/vtab-dmlab/sup_vitb16_imagenet21k/prompt50/crop224/test/seed9881/lr1.0_wd0.001/run1/logs.txt\n",
      "output_dir/vtab-dmlab/sup_vitb16_imagenet21k/prompt50/crop224/test/seed4796/lr1.0_wd0.001/run1/logs.txt\n",
      "output_dir/vtab-cifar(num_classes=100)/sup_vitb16_imagenet21k/prompt50/crop224/test/seed1188/lr0.5_wd0.001/run1/logs.txt\n",
      "output_dir/vtab-cifar(num_classes=100)/sup_vitb16_imagenet21k/prompt50/crop224/test/seed7190/lr0.5_wd0.001/run1/logs.txt\n",
      "output_dir/vtab-cifar(num_classes=100)/sup_vitb16_imagenet21k/prompt50/crop224/test/seed3157/lr0.5_wd0.001/run1/logs.txt\n",
      "output_dir/vtab-cifar(num_classes=100)/sup_vitb16_imagenet21k/prompt50/crop224/test/seed2132/lr0.5_wd0.001/run1/logs.txt\n",
      "output_dir/vtab-cifar(num_classes=100)/sup_vitb16_imagenet21k/prompt50/crop224/test/seed9286/lr0.5_wd0.001/run1/logs.txt\n",
      "output_dir/vtab-smallnorb(predicted_attribute=\"label_elevation\")/sup_vitb16_imagenet21k/prompt50/crop224/test/seed4755/lr1.0_wd0.0001/run1/logs.txt\n",
      "output_dir/vtab-smallnorb(predicted_attribute=\"label_elevation\")/sup_vitb16_imagenet21k/prompt50/crop224/test/seed2524/lr1.0_wd0.0001/run1/logs.txt\n",
      "output_dir/vtab-smallnorb(predicted_attribute=\"label_elevation\")/sup_vitb16_imagenet21k/prompt50/crop224/test/seed4228/lr1.0_wd0.0001/run1/logs.txt\n",
      "output_dir/vtab-smallnorb(predicted_attribute=\"label_elevation\")/sup_vitb16_imagenet21k/prompt50/crop224/test/seed3449/lr1.0_wd0.0001/run1/logs.txt\n",
      "output_dir/vtab-smallnorb(predicted_attribute=\"label_elevation\")/sup_vitb16_imagenet21k/prompt50/crop224/test/seed1332/lr1.0_wd0.0001/run1/logs.txt\n",
      "output_dir/vtab-kitti(task=\"closest_vehicle_distance\")/sup_vitb16_imagenet21k/prompt50/crop224/test/seed6872/lr0.5_wd0.001/run1/logs.txt\n",
      "output_dir/vtab-kitti(task=\"closest_vehicle_distance\")/sup_vitb16_imagenet21k/prompt50/crop224/test/seed4395/lr0.5_wd0.001/run1/logs.txt\n",
      "output_dir/vtab-kitti(task=\"closest_vehicle_distance\")/sup_vitb16_imagenet21k/prompt50/crop224/test/seed9094/lr0.5_wd0.001/run1/logs.txt\n",
      "output_dir/vtab-kitti(task=\"closest_vehicle_distance\")/sup_vitb16_imagenet21k/prompt50/crop224/test/seed6123/lr0.5_wd0.001/run1/logs.txt\n",
      "output_dir/vtab-kitti(task=\"closest_vehicle_distance\")/sup_vitb16_imagenet21k/prompt50/crop224/test/seed7275/lr0.5_wd0.001/run1/logs.txt\n",
      "output_dir/vtab-patch_camelyon/sup_vitb16_imagenet21k/prompt50/crop224/test/seed363/lr0.25_wd0.0/run1/logs.txt\n",
      "output_dir/vtab-sun397/sup_vitb16_imagenet21k/prompt50/crop224/test/seed9020/lr2.5_wd0.001/run1/logs.txt\n",
      "output_dir/vtab-sun397/sup_vitb16_imagenet21k/prompt50/crop224/test/seed7077/lr2.5_wd0.001/run1/logs.txt\n",
      "output_dir/vtab-sun397/sup_vitb16_imagenet21k/prompt50/crop224/test/seed5755/lr2.5_wd0.001/run1/logs.txt\n",
      "output_dir/vtab-resisc45/sup_vitb16_imagenet21k/prompt50/crop224/test/seed7341/lr2.5_wd0.001/run1/logs.txt\n",
      "output_dir/vtab-resisc45/sup_vitb16_imagenet21k/prompt50/crop224/test/seed2690/lr2.5_wd0.001/run1/logs.txt\n",
      "output_dir/vtab-resisc45/sup_vitb16_imagenet21k/prompt50/crop224/test/seed2758/lr2.5_wd0.001/run1/logs.txt\n",
      "output_dir/vtab-resisc45/sup_vitb16_imagenet21k/prompt50/crop224/test/seed9110/lr2.5_wd0.001/run1/logs.txt\n",
      "output_dir/vtab-resisc45/sup_vitb16_imagenet21k/prompt50/crop224/test/seed7037/lr2.5_wd0.001/run1/logs.txt\n",
      "output_dir/vtab-dtd/sup_vitb16_imagenet21k/prompt50/crop224/test/seed737/lr5.0_wd0.001/run1/logs.txt\n",
      "output_dir/vtab-dtd/sup_vitb16_imagenet21k/prompt50/crop224/test/seed5168/lr5.0_wd0.001/run1/logs.txt\n",
      "output_dir/vtab-dtd/sup_vitb16_imagenet21k/prompt50/crop224/test/seed2845/lr5.0_wd0.001/run1/logs.txt\n",
      "output_dir/vtab-dtd/sup_vitb16_imagenet21k/prompt50/crop224/test/seed8490/lr5.0_wd0.001/run1/logs.txt\n",
      "output_dir/vtab-dtd/sup_vitb16_imagenet21k/prompt50/crop224/test/seed8786/lr5.0_wd0.001/run1/logs.txt\n",
      "output_dir/vtab-svhn/sup_vitb16_imagenet21k/prompt50/crop224/test/seed6817/lr0.5_wd0.001/run1/logs.txt\n",
      "output_dir/vtab-caltech101/sup_vitb16_imagenet21k/prompt50/crop224/test/seed9666/lr1.0_wd0.001/run1/logs.txt\n",
      "output_dir/vtab-caltech101/sup_vitb16_imagenet21k/prompt50/crop224/test/seed9585/lr1.0_wd0.001/run1/logs.txt\n",
      "output_dir/vtab-caltech101/sup_vitb16_imagenet21k/prompt50/crop224/test/seed9640/lr1.0_wd0.001/run1/logs.txt\n",
      "output_dir/vtab-caltech101/sup_vitb16_imagenet21k/prompt50/crop224/test/seed7022/lr1.0_wd0.001/run1/logs.txt\n",
      "output_dir/vtab-caltech101/sup_vitb16_imagenet21k/prompt50/crop224/test/seed236/lr1.0_wd0.001/run1/logs.txt\n",
      "output_dir/vtab-dsprites(predicted_attribute=\"label_orientation\",num_classes=16)/sup_vitb16_imagenet21k/prompt50/crop224/test/seed6768/lr0.1_wd0.001/run1/logs.txt\n",
      "output_dir/vtab-smallnorb(predicted_attribute=\"label_azimuth\")/sup_vitb16_imagenet21k/prompt50/crop224/test/seed8364/lr0.25_wd0.001/run1/logs.txt\n",
      "output_dir/vtab-smallnorb(predicted_attribute=\"label_azimuth\")/sup_vitb16_imagenet21k/prompt50/crop224/test/seed4972/lr0.25_wd0.001/run1/logs.txt\n",
      "output_dir/vtab-smallnorb(predicted_attribute=\"label_azimuth\")/sup_vitb16_imagenet21k/prompt50/crop224/test/seed7290/lr0.25_wd0.001/run1/logs.txt\n",
      "output_dir/vtab-smallnorb(predicted_attribute=\"label_azimuth\")/sup_vitb16_imagenet21k/prompt50/crop224/test/seed5877/lr0.25_wd0.001/run1/logs.txt\n",
      "output_dir/vtab-smallnorb(predicted_attribute=\"label_azimuth\")/sup_vitb16_imagenet21k/prompt50/crop224/test/seed6530/lr0.25_wd0.001/run1/logs.txt\n"
     ]
    }
   ],
   "source": [
    "root = \"output_dir\"\n",
    "df_list=[]\n",
    "pattern = f\"{root}/*/sup_vitb16_imagenet21k/*/*/test/*/*/*/{LOG_NAME}\"\n",
    "files = glob.glob(pattern)\n",
    "for f in files:\n",
    "    print(f)\n",
    "#         df = get_df(files, f\"seed{seed}\", root, is_best=False, is_last=True)\n",
    "#         if df is None:\n",
    "#             continue\n",
    "#         df[\"seed\"] = seed\n",
    "#         df_list.append(df)\n",
    "# df = pd.concat(df_list)\n",
    "# df[\"type\"] = \"VPT\""
   ],
   "metadata": {
    "collapsed": false,
    "ExecuteTime": {
     "end_time": "2023-09-30T15:21:54.776021996Z",
     "start_time": "2023-09-30T15:21:54.716487810Z"
    }
   },
   "id": "6d075fed3f7725ae"
  },
  {
   "cell_type": "code",
   "execution_count": 16,
   "outputs": [
    {
     "data": {
      "text/plain": "                                                data                 feature  \\\n1                                    vtab-caltech101  sup_vitb16_imagenet21k   \n0                                       vtab-eurosat  sup_vitb16_imagenet21k   \n2  vtab-smallnorb(predicted_attribute=\"label_azim...  sup_vitb16_imagenet21k   \n1                                    vtab-caltech101  sup_vitb16_imagenet21k   \n0                                       vtab-eurosat  sup_vitb16_imagenet21k   \n2  vtab-smallnorb(predicted_attribute=\"label_azim...  sup_vitb16_imagenet21k   \n1                                    vtab-caltech101  sup_vitb16_imagenet21k   \n0                                       vtab-eurosat  sup_vitb16_imagenet21k   \n2  vtab-smallnorb(predicted_attribute=\"label_azim...  sup_vitb16_imagenet21k   \n1                                    vtab-caltech101  sup_vitb16_imagenet21k   \n0                                       vtab-eurosat  sup_vitb16_imagenet21k   \n2  vtab-smallnorb(predicted_attribute=\"label_azim...  sup_vitb16_imagenet21k   \n1                                    vtab-caltech101  sup_vitb16_imagenet21k   \n0                                       vtab-eurosat  sup_vitb16_imagenet21k   \n2  vtab-smallnorb(predicted_attribute=\"label_azim...  sup_vitb16_imagenet21k   \n1                                    vtab-caltech101  sup_vitb16_imagenet21k   \n0                                       vtab-eurosat  sup_vitb16_imagenet21k   \n2  vtab-smallnorb(predicted_attribute=\"label_azim...  sup_vitb16_imagenet21k   \n0                                    vtab-caltech101  sup_vitb16_imagenet21k   \n0                                    vtab-caltech101  sup_vitb16_imagenet21k   \n0                                    vtab-caltech101  sup_vitb16_imagenet21k   \n\n     lr      wd  total_params  tuned_params  tuned / total (%)  batch_size  \\\n1  20.0  0.0001      86798694       1000038             1.1521          64   \n0  20.0  0.0001      86727946        929290             1.0715          64   \n2  20.0  0.0001      86734098        935442             1.0785          64   \n1  20.0  0.0001      86798694       1000038             1.1521          64   \n0  20.0  0.0001      86727946        929290             1.0715          64   \n2  20.0  0.0001      86734098        935442             1.0785          64   \n1  20.0  0.0001      86798694       1000038             1.1521          64   \n0  20.0  0.0001      86727946        929290             1.0715          64   \n2  20.0  0.0001      86734098        935442             1.0785          64   \n1  20.0  0.0001      86798694       1000038             1.1521          64   \n0  20.0  0.0001      86727946        929290             1.0715          64   \n2  20.0  0.0001      86734098        935442             1.0785          64   \n1  20.0  0.0001      86798694       1000038             1.1521          64   \n0  20.0  0.0001      86727946        929290             1.0715          64   \n2  20.0  0.0001      86734098        935442             1.0785          64   \n1  20.0  0.0001      86798694       1000038             1.1521          64   \n0  20.0  0.0001      86727946        929290             1.0715          64   \n2  20.0  0.0001      86734098        935442             1.0785          64   \n0  20.0  0.0001      86798694       1000038             1.1521          64   \n0  20.0  0.0001      86798694       1000038             1.1521          64   \n0  20.0  0.0001      86798694       1000038             1.1521          64   \n\n   l-val_top1  l-test_top1 best_epoch  \\\n1       100.0        89.84   21 | 100   \n0       100.0        95.87   58 | 100   \n2        93.0        21.93   99 | 100   \n1       100.0        89.84   21 | 100   \n0       100.0        95.87   58 | 100   \n2        93.0        21.93   99 | 100   \n1       100.0        89.84   21 | 100   \n0       100.0        95.87   58 | 100   \n2        93.0        21.93   99 | 100   \n1       100.0        90.60   25 | 100   \n0       100.0        90.26    40 | 51   \n2        13.5         7.80    71 | 75   \n1       100.0        90.60   25 | 100   \n0       100.0        90.26    40 | 51   \n2        13.5         7.80    71 | 75   \n1       100.0        90.60   25 | 100   \n0       100.0        90.26    40 | 51   \n2        13.5         7.80    71 | 75   \n0       100.0        85.63   20 | 100   \n0       100.0        89.43   25 | 100   \n0       100.0        83.00   25 | 100   \n\n                                                file      total_time seed type  \n1  output_dir/seed42/vtab-caltech101/sup_vitb16_i... 0 days 00:53:21   42  VPT  \n0  output_dir/seed42/vtab-eurosat/sup_vitb16_imag... 0 days 01:39:39   42  VPT  \n2  output_dir/seed42/vtab-smallnorb(predicted_att... 0 days 01:25:51   42  VPT  \n1  output_dir/seed42/vtab-caltech101/sup_vitb16_i... 0 days 00:53:21   42  VPT  \n0  output_dir/seed42/vtab-eurosat/sup_vitb16_imag... 0 days 01:39:39   42  VPT  \n2  output_dir/seed42/vtab-smallnorb(predicted_att... 0 days 01:25:51   42  VPT  \n1  output_dir/seed42/vtab-caltech101/sup_vitb16_i... 0 days 00:53:21   42  VPT  \n0  output_dir/seed42/vtab-eurosat/sup_vitb16_imag... 0 days 01:39:39   42  VPT  \n2  output_dir/seed42/vtab-smallnorb(predicted_att... 0 days 01:25:51   42  VPT  \n1  output_dir/seed44/vtab-caltech101/sup_vitb16_i... 0 days 00:51:51   44  VPT  \n0  output_dir/seed44/vtab-eurosat/sup_vitb16_imag... 0 days 00:51:20   44  VPT  \n2  output_dir/seed44/vtab-smallnorb(predicted_att... 0 days 01:04:33   44  VPT  \n1  output_dir/seed44/vtab-caltech101/sup_vitb16_i... 0 days 00:51:51   44  VPT  \n0  output_dir/seed44/vtab-eurosat/sup_vitb16_imag... 0 days 00:51:20   44  VPT  \n2  output_dir/seed44/vtab-smallnorb(predicted_att... 0 days 01:04:33   44  VPT  \n1  output_dir/seed44/vtab-caltech101/sup_vitb16_i... 0 days 00:51:51   44  VPT  \n0  output_dir/seed44/vtab-eurosat/sup_vitb16_imag... 0 days 00:51:20   44  VPT  \n2  output_dir/seed44/vtab-smallnorb(predicted_att... 0 days 01:04:33   44  VPT  \n0  output_dir/seed82/vtab-caltech101/sup_vitb16_i... 0 days 00:51:57   82  VPT  \n0  output_dir/seed100/vtab-caltech101/sup_vitb16_... 0 days 00:52:09  100  VPT  \n0  output_dir/seed800/vtab-caltech101/sup_vitb16_... 0 days 00:51:56  800  VPT  ",
      "text/html": "<div>\n<style scoped>\n    .dataframe tbody tr th:only-of-type {\n        vertical-align: middle;\n    }\n\n    .dataframe tbody tr th {\n        vertical-align: top;\n    }\n\n    .dataframe thead th {\n        text-align: right;\n    }\n</style>\n<table border=\"1\" class=\"dataframe\">\n  <thead>\n    <tr style=\"text-align: right;\">\n      <th></th>\n      <th>data</th>\n      <th>feature</th>\n      <th>lr</th>\n      <th>wd</th>\n      <th>total_params</th>\n      <th>tuned_params</th>\n      <th>tuned / total (%)</th>\n      <th>batch_size</th>\n      <th>l-val_top1</th>\n      <th>l-test_top1</th>\n      <th>best_epoch</th>\n      <th>file</th>\n      <th>total_time</th>\n      <th>seed</th>\n      <th>type</th>\n    </tr>\n  </thead>\n  <tbody>\n    <tr>\n      <th>1</th>\n      <td>vtab-caltech101</td>\n      <td>sup_vitb16_imagenet21k</td>\n      <td>20.0</td>\n      <td>0.0001</td>\n      <td>86798694</td>\n      <td>1000038</td>\n      <td>1.1521</td>\n      <td>64</td>\n      <td>100.0</td>\n      <td>89.84</td>\n      <td>21 | 100</td>\n      <td>output_dir/seed42/vtab-caltech101/sup_vitb16_i...</td>\n      <td>0 days 00:53:21</td>\n      <td>42</td>\n      <td>VPT</td>\n    </tr>\n    <tr>\n      <th>0</th>\n      <td>vtab-eurosat</td>\n      <td>sup_vitb16_imagenet21k</td>\n      <td>20.0</td>\n      <td>0.0001</td>\n      <td>86727946</td>\n      <td>929290</td>\n      <td>1.0715</td>\n      <td>64</td>\n      <td>100.0</td>\n      <td>95.87</td>\n      <td>58 | 100</td>\n      <td>output_dir/seed42/vtab-eurosat/sup_vitb16_imag...</td>\n      <td>0 days 01:39:39</td>\n      <td>42</td>\n      <td>VPT</td>\n    </tr>\n    <tr>\n      <th>2</th>\n      <td>vtab-smallnorb(predicted_attribute=\"label_azim...</td>\n      <td>sup_vitb16_imagenet21k</td>\n      <td>20.0</td>\n      <td>0.0001</td>\n      <td>86734098</td>\n      <td>935442</td>\n      <td>1.0785</td>\n      <td>64</td>\n      <td>93.0</td>\n      <td>21.93</td>\n      <td>99 | 100</td>\n      <td>output_dir/seed42/vtab-smallnorb(predicted_att...</td>\n      <td>0 days 01:25:51</td>\n      <td>42</td>\n      <td>VPT</td>\n    </tr>\n    <tr>\n      <th>1</th>\n      <td>vtab-caltech101</td>\n      <td>sup_vitb16_imagenet21k</td>\n      <td>20.0</td>\n      <td>0.0001</td>\n      <td>86798694</td>\n      <td>1000038</td>\n      <td>1.1521</td>\n      <td>64</td>\n      <td>100.0</td>\n      <td>89.84</td>\n      <td>21 | 100</td>\n      <td>output_dir/seed42/vtab-caltech101/sup_vitb16_i...</td>\n      <td>0 days 00:53:21</td>\n      <td>42</td>\n      <td>VPT</td>\n    </tr>\n    <tr>\n      <th>0</th>\n      <td>vtab-eurosat</td>\n      <td>sup_vitb16_imagenet21k</td>\n      <td>20.0</td>\n      <td>0.0001</td>\n      <td>86727946</td>\n      <td>929290</td>\n      <td>1.0715</td>\n      <td>64</td>\n      <td>100.0</td>\n      <td>95.87</td>\n      <td>58 | 100</td>\n      <td>output_dir/seed42/vtab-eurosat/sup_vitb16_imag...</td>\n      <td>0 days 01:39:39</td>\n      <td>42</td>\n      <td>VPT</td>\n    </tr>\n    <tr>\n      <th>2</th>\n      <td>vtab-smallnorb(predicted_attribute=\"label_azim...</td>\n      <td>sup_vitb16_imagenet21k</td>\n      <td>20.0</td>\n      <td>0.0001</td>\n      <td>86734098</td>\n      <td>935442</td>\n      <td>1.0785</td>\n      <td>64</td>\n      <td>93.0</td>\n      <td>21.93</td>\n      <td>99 | 100</td>\n      <td>output_dir/seed42/vtab-smallnorb(predicted_att...</td>\n      <td>0 days 01:25:51</td>\n      <td>42</td>\n      <td>VPT</td>\n    </tr>\n    <tr>\n      <th>1</th>\n      <td>vtab-caltech101</td>\n      <td>sup_vitb16_imagenet21k</td>\n      <td>20.0</td>\n      <td>0.0001</td>\n      <td>86798694</td>\n      <td>1000038</td>\n      <td>1.1521</td>\n      <td>64</td>\n      <td>100.0</td>\n      <td>89.84</td>\n      <td>21 | 100</td>\n      <td>output_dir/seed42/vtab-caltech101/sup_vitb16_i...</td>\n      <td>0 days 00:53:21</td>\n      <td>42</td>\n      <td>VPT</td>\n    </tr>\n    <tr>\n      <th>0</th>\n      <td>vtab-eurosat</td>\n      <td>sup_vitb16_imagenet21k</td>\n      <td>20.0</td>\n      <td>0.0001</td>\n      <td>86727946</td>\n      <td>929290</td>\n      <td>1.0715</td>\n      <td>64</td>\n      <td>100.0</td>\n      <td>95.87</td>\n      <td>58 | 100</td>\n      <td>output_dir/seed42/vtab-eurosat/sup_vitb16_imag...</td>\n      <td>0 days 01:39:39</td>\n      <td>42</td>\n      <td>VPT</td>\n    </tr>\n    <tr>\n      <th>2</th>\n      <td>vtab-smallnorb(predicted_attribute=\"label_azim...</td>\n      <td>sup_vitb16_imagenet21k</td>\n      <td>20.0</td>\n      <td>0.0001</td>\n      <td>86734098</td>\n      <td>935442</td>\n      <td>1.0785</td>\n      <td>64</td>\n      <td>93.0</td>\n      <td>21.93</td>\n      <td>99 | 100</td>\n      <td>output_dir/seed42/vtab-smallnorb(predicted_att...</td>\n      <td>0 days 01:25:51</td>\n      <td>42</td>\n      <td>VPT</td>\n    </tr>\n    <tr>\n      <th>1</th>\n      <td>vtab-caltech101</td>\n      <td>sup_vitb16_imagenet21k</td>\n      <td>20.0</td>\n      <td>0.0001</td>\n      <td>86798694</td>\n      <td>1000038</td>\n      <td>1.1521</td>\n      <td>64</td>\n      <td>100.0</td>\n      <td>90.60</td>\n      <td>25 | 100</td>\n      <td>output_dir/seed44/vtab-caltech101/sup_vitb16_i...</td>\n      <td>0 days 00:51:51</td>\n      <td>44</td>\n      <td>VPT</td>\n    </tr>\n    <tr>\n      <th>0</th>\n      <td>vtab-eurosat</td>\n      <td>sup_vitb16_imagenet21k</td>\n      <td>20.0</td>\n      <td>0.0001</td>\n      <td>86727946</td>\n      <td>929290</td>\n      <td>1.0715</td>\n      <td>64</td>\n      <td>100.0</td>\n      <td>90.26</td>\n      <td>40 | 51</td>\n      <td>output_dir/seed44/vtab-eurosat/sup_vitb16_imag...</td>\n      <td>0 days 00:51:20</td>\n      <td>44</td>\n      <td>VPT</td>\n    </tr>\n    <tr>\n      <th>2</th>\n      <td>vtab-smallnorb(predicted_attribute=\"label_azim...</td>\n      <td>sup_vitb16_imagenet21k</td>\n      <td>20.0</td>\n      <td>0.0001</td>\n      <td>86734098</td>\n      <td>935442</td>\n      <td>1.0785</td>\n      <td>64</td>\n      <td>13.5</td>\n      <td>7.80</td>\n      <td>71 | 75</td>\n      <td>output_dir/seed44/vtab-smallnorb(predicted_att...</td>\n      <td>0 days 01:04:33</td>\n      <td>44</td>\n      <td>VPT</td>\n    </tr>\n    <tr>\n      <th>1</th>\n      <td>vtab-caltech101</td>\n      <td>sup_vitb16_imagenet21k</td>\n      <td>20.0</td>\n      <td>0.0001</td>\n      <td>86798694</td>\n      <td>1000038</td>\n      <td>1.1521</td>\n      <td>64</td>\n      <td>100.0</td>\n      <td>90.60</td>\n      <td>25 | 100</td>\n      <td>output_dir/seed44/vtab-caltech101/sup_vitb16_i...</td>\n      <td>0 days 00:51:51</td>\n      <td>44</td>\n      <td>VPT</td>\n    </tr>\n    <tr>\n      <th>0</th>\n      <td>vtab-eurosat</td>\n      <td>sup_vitb16_imagenet21k</td>\n      <td>20.0</td>\n      <td>0.0001</td>\n      <td>86727946</td>\n      <td>929290</td>\n      <td>1.0715</td>\n      <td>64</td>\n      <td>100.0</td>\n      <td>90.26</td>\n      <td>40 | 51</td>\n      <td>output_dir/seed44/vtab-eurosat/sup_vitb16_imag...</td>\n      <td>0 days 00:51:20</td>\n      <td>44</td>\n      <td>VPT</td>\n    </tr>\n    <tr>\n      <th>2</th>\n      <td>vtab-smallnorb(predicted_attribute=\"label_azim...</td>\n      <td>sup_vitb16_imagenet21k</td>\n      <td>20.0</td>\n      <td>0.0001</td>\n      <td>86734098</td>\n      <td>935442</td>\n      <td>1.0785</td>\n      <td>64</td>\n      <td>13.5</td>\n      <td>7.80</td>\n      <td>71 | 75</td>\n      <td>output_dir/seed44/vtab-smallnorb(predicted_att...</td>\n      <td>0 days 01:04:33</td>\n      <td>44</td>\n      <td>VPT</td>\n    </tr>\n    <tr>\n      <th>1</th>\n      <td>vtab-caltech101</td>\n      <td>sup_vitb16_imagenet21k</td>\n      <td>20.0</td>\n      <td>0.0001</td>\n      <td>86798694</td>\n      <td>1000038</td>\n      <td>1.1521</td>\n      <td>64</td>\n      <td>100.0</td>\n      <td>90.60</td>\n      <td>25 | 100</td>\n      <td>output_dir/seed44/vtab-caltech101/sup_vitb16_i...</td>\n      <td>0 days 00:51:51</td>\n      <td>44</td>\n      <td>VPT</td>\n    </tr>\n    <tr>\n      <th>0</th>\n      <td>vtab-eurosat</td>\n      <td>sup_vitb16_imagenet21k</td>\n      <td>20.0</td>\n      <td>0.0001</td>\n      <td>86727946</td>\n      <td>929290</td>\n      <td>1.0715</td>\n      <td>64</td>\n      <td>100.0</td>\n      <td>90.26</td>\n      <td>40 | 51</td>\n      <td>output_dir/seed44/vtab-eurosat/sup_vitb16_imag...</td>\n      <td>0 days 00:51:20</td>\n      <td>44</td>\n      <td>VPT</td>\n    </tr>\n    <tr>\n      <th>2</th>\n      <td>vtab-smallnorb(predicted_attribute=\"label_azim...</td>\n      <td>sup_vitb16_imagenet21k</td>\n      <td>20.0</td>\n      <td>0.0001</td>\n      <td>86734098</td>\n      <td>935442</td>\n      <td>1.0785</td>\n      <td>64</td>\n      <td>13.5</td>\n      <td>7.80</td>\n      <td>71 | 75</td>\n      <td>output_dir/seed44/vtab-smallnorb(predicted_att...</td>\n      <td>0 days 01:04:33</td>\n      <td>44</td>\n      <td>VPT</td>\n    </tr>\n    <tr>\n      <th>0</th>\n      <td>vtab-caltech101</td>\n      <td>sup_vitb16_imagenet21k</td>\n      <td>20.0</td>\n      <td>0.0001</td>\n      <td>86798694</td>\n      <td>1000038</td>\n      <td>1.1521</td>\n      <td>64</td>\n      <td>100.0</td>\n      <td>85.63</td>\n      <td>20 | 100</td>\n      <td>output_dir/seed82/vtab-caltech101/sup_vitb16_i...</td>\n      <td>0 days 00:51:57</td>\n      <td>82</td>\n      <td>VPT</td>\n    </tr>\n    <tr>\n      <th>0</th>\n      <td>vtab-caltech101</td>\n      <td>sup_vitb16_imagenet21k</td>\n      <td>20.0</td>\n      <td>0.0001</td>\n      <td>86798694</td>\n      <td>1000038</td>\n      <td>1.1521</td>\n      <td>64</td>\n      <td>100.0</td>\n      <td>89.43</td>\n      <td>25 | 100</td>\n      <td>output_dir/seed100/vtab-caltech101/sup_vitb16_...</td>\n      <td>0 days 00:52:09</td>\n      <td>100</td>\n      <td>VPT</td>\n    </tr>\n    <tr>\n      <th>0</th>\n      <td>vtab-caltech101</td>\n      <td>sup_vitb16_imagenet21k</td>\n      <td>20.0</td>\n      <td>0.0001</td>\n      <td>86798694</td>\n      <td>1000038</td>\n      <td>1.1521</td>\n      <td>64</td>\n      <td>100.0</td>\n      <td>83.00</td>\n      <td>25 | 100</td>\n      <td>output_dir/seed800/vtab-caltech101/sup_vitb16_...</td>\n      <td>0 days 00:51:56</td>\n      <td>800</td>\n      <td>VPT</td>\n    </tr>\n  </tbody>\n</table>\n</div>"
     },
     "execution_count": 16,
     "metadata": {},
     "output_type": "execute_result"
    }
   ],
   "source": [
    "df"
   ],
   "metadata": {
    "collapsed": false,
    "ExecuteTime": {
     "end_time": "2023-09-15T13:00:24.195161698Z",
     "start_time": "2023-09-15T13:00:24.192624532Z"
    }
   },
   "id": "77da8ffcf14e61ae"
  },
  {
   "cell_type": "code",
   "execution_count": 17,
   "outputs": [
    {
     "data": {
      "text/plain": "                                                data                 feature  \\\n0                                    vtab-caltech101  sup_vitb16_imagenet21k   \n1                                       vtab-eurosat  sup_vitb16_imagenet21k   \n2  vtab-smallnorb(predicted_attribute=\"label_azim...  sup_vitb16_imagenet21k   \n\n  type  total_runs l-test_top1 l-test_top1-std    lr      wd  total_params  \\\n0  VPT           9       88.82            2.52  20.0  0.0001      86798694   \n1  VPT           6       93.06            2.80  20.0  0.0001      86727946   \n2  VPT           6       14.86            7.06  20.0  0.0001      86734098   \n\n   tuned_params  tuned / total (%)  batch_size  l-val_top1      total_time  \\\n0       1000038             1.1521          64       100.0 0 days 00:53:21   \n1        929290             1.0715          64       100.0 0 days 01:39:39   \n2        935442             1.0785          64        93.0 0 days 01:25:51   \n\n  seed  \n0   42  \n1   42  \n2   42  ",
      "text/html": "<div>\n<style scoped>\n    .dataframe tbody tr th:only-of-type {\n        vertical-align: middle;\n    }\n\n    .dataframe tbody tr th {\n        vertical-align: top;\n    }\n\n    .dataframe thead th {\n        text-align: right;\n    }\n</style>\n<table border=\"1\" class=\"dataframe\">\n  <thead>\n    <tr style=\"text-align: right;\">\n      <th></th>\n      <th>data</th>\n      <th>feature</th>\n      <th>type</th>\n      <th>total_runs</th>\n      <th>l-test_top1</th>\n      <th>l-test_top1-std</th>\n      <th>lr</th>\n      <th>wd</th>\n      <th>total_params</th>\n      <th>tuned_params</th>\n      <th>tuned / total (%)</th>\n      <th>batch_size</th>\n      <th>l-val_top1</th>\n      <th>total_time</th>\n      <th>seed</th>\n    </tr>\n  </thead>\n  <tbody>\n    <tr>\n      <th>0</th>\n      <td>vtab-caltech101</td>\n      <td>sup_vitb16_imagenet21k</td>\n      <td>VPT</td>\n      <td>9</td>\n      <td>88.82</td>\n      <td>2.52</td>\n      <td>20.0</td>\n      <td>0.0001</td>\n      <td>86798694</td>\n      <td>1000038</td>\n      <td>1.1521</td>\n      <td>64</td>\n      <td>100.0</td>\n      <td>0 days 00:53:21</td>\n      <td>42</td>\n    </tr>\n    <tr>\n      <th>1</th>\n      <td>vtab-eurosat</td>\n      <td>sup_vitb16_imagenet21k</td>\n      <td>VPT</td>\n      <td>6</td>\n      <td>93.06</td>\n      <td>2.80</td>\n      <td>20.0</td>\n      <td>0.0001</td>\n      <td>86727946</td>\n      <td>929290</td>\n      <td>1.0715</td>\n      <td>64</td>\n      <td>100.0</td>\n      <td>0 days 01:39:39</td>\n      <td>42</td>\n    </tr>\n    <tr>\n      <th>2</th>\n      <td>vtab-smallnorb(predicted_attribute=\"label_azim...</td>\n      <td>sup_vitb16_imagenet21k</td>\n      <td>VPT</td>\n      <td>6</td>\n      <td>14.86</td>\n      <td>7.06</td>\n      <td>20.0</td>\n      <td>0.0001</td>\n      <td>86734098</td>\n      <td>935442</td>\n      <td>1.0785</td>\n      <td>64</td>\n      <td>93.0</td>\n      <td>0 days 01:25:51</td>\n      <td>42</td>\n    </tr>\n  </tbody>\n</table>\n</div>"
     },
     "execution_count": 17,
     "metadata": {},
     "output_type": "execute_result"
    }
   ],
   "source": [
    "f_df = average_df(df, metric_names=[\"l-test_top1\"], take_average=True)\n",
    "f_df"
   ],
   "metadata": {
    "collapsed": false,
    "ExecuteTime": {
     "end_time": "2023-09-15T13:00:25.535677921Z",
     "start_time": "2023-09-15T13:00:25.528785288Z"
    }
   },
   "id": "38120f666b8b4492"
  },
  {
   "cell_type": "code",
   "execution_count": null,
   "outputs": [],
   "source": [
    "# average per dataset:\n"
   ],
   "metadata": {
    "collapsed": false
   },
   "id": "8385f47badc389fa"
  }
 ],
 "metadata": {
  "kernelspec": {
   "display_name": "Python 3",
   "language": "python",
   "name": "python3"
  },
  "language_info": {
   "codemirror_mode": {
    "name": "ipython",
    "version": 2
   },
   "file_extension": ".py",
   "mimetype": "text/x-python",
   "name": "python",
   "nbconvert_exporter": "python",
   "pygments_lexer": "ipython2",
   "version": "2.7.6"
  }
 },
 "nbformat": 4,
 "nbformat_minor": 5
}
