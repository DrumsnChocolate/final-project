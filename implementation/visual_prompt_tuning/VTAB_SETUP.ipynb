{
 "cells": [
  {
   "cell_type": "code",
   "execution_count": null,
   "id": "initial_id",
   "metadata": {
    "collapsed": true,
    "is_executing": true,
    "ExecuteTime": {
     "start_time": "2023-09-12T10:57:10.535985191Z"
    }
   },
   "outputs": [
    {
     "name": "stderr",
     "output_type": "stream",
     "text": [
      "2023-09-12 12:57:11.396206: I tensorflow/core/platform/cpu_feature_guard.cc:193] This TensorFlow binary is optimized with oneAPI Deep Neural Network Library (oneDNN) to use the following CPU instructions in performance-critical operations:  AVX2 AVX_VNNI FMA\n",
      "To enable them in other operations, rebuild TensorFlow with the appropriate compiler flags.\n",
      "2023-09-12 12:57:11.782940: I tensorflow/core/util/port.cc:104] oneDNN custom operations are on. You may see slightly different numerical results due to floating-point round-off errors from different computation orders. To turn them off, set the environment variable `TF_ENABLE_ONEDNN_OPTS=0`.\n",
      "2023-09-12 12:57:11.858638: W tensorflow/compiler/xla/stream_executor/platform/default/dso_loader.cc:64] Could not load dynamic library 'libcudart.so.11.0'; dlerror: libcudart.so.11.0: cannot open shared object file: No such file or directory\n",
      "2023-09-12 12:57:11.858658: I tensorflow/compiler/xla/stream_executor/cuda/cudart_stub.cc:29] Ignore above cudart dlerror if you do not have a GPU set up on your machine.\n",
      "2023-09-12 12:57:12.764919: W tensorflow/compiler/xla/stream_executor/platform/default/dso_loader.cc:64] Could not load dynamic library 'libnvinfer.so.7'; dlerror: libnvinfer.so.7: cannot open shared object file: No such file or directory\n",
      "2023-09-12 12:57:12.764985: W tensorflow/compiler/xla/stream_executor/platform/default/dso_loader.cc:64] Could not load dynamic library 'libnvinfer_plugin.so.7'; dlerror: libnvinfer_plugin.so.7: cannot open shared object file: No such file or directory\n",
      "2023-09-12 12:57:12.764992: W tensorflow/compiler/tf2tensorrt/utils/py_utils.cc:38] TF-TRT Warning: Cannot dlopen some TensorRT libraries. If you would like to use Nvidia GPU with TensorRT, please make sure the missing libraries mentioned above are installed properly.\n",
      "2023-09-12 12:57:13.689255: W tensorflow/core/platform/cloud/google_auth_provider.cc:184] All attempts to get a Google authentication bearer token failed, returning an empty token. Retrieving token from files failed with \"NOT_FOUND: Could not locate the credentials file.\". Retrieving token from GCE failed with \"FAILED_PRECONDITION: Error executing an HTTP request: libcurl code 6 meaning 'Couldn't resolve host name', error details: Could not resolve host: metadata\".\n"
     ]
    },
    {
     "name": "stdout",
     "output_type": "stream",
     "text": [
      "Downloading and preparing dataset 7.48 GiB (download: 7.48 GiB, generated: Unknown size, total: 7.48 GiB) to data_path/patch_camelyon/2.0.0...\n"
     ]
    },
    {
     "data": {
      "text/plain": "Dl Completed...: 0 url [00:00, ? url/s]",
      "application/vnd.jupyter.widget-view+json": {
       "version_major": 2,
       "version_minor": 0,
       "model_id": "34f12dcc4f064e619ae963bd84bd90bd"
      }
     },
     "metadata": {},
     "output_type": "display_data"
    },
    {
     "data": {
      "text/plain": "Dl Size...: 0 MiB [00:00, ? MiB/s]",
      "application/vnd.jupyter.widget-view+json": {
       "version_major": 2,
       "version_minor": 0,
       "model_id": "5c34700a807341babd805d33187d8e2c"
      }
     },
     "metadata": {},
     "output_type": "display_data"
    },
    {
     "data": {
      "text/plain": "Extraction completed...: 0 file [00:00, ? file/s]",
      "application/vnd.jupyter.widget-view+json": {
       "version_major": 2,
       "version_minor": 0,
       "model_id": "eec6eb8ea1be44789ff5f15d84f357a6"
      }
     },
     "metadata": {},
     "output_type": "display_data"
    }
   ],
   "source": [
    "import tensorflow_datasets as tfds\n",
    "data_dir = \"data_path\"  # DONE: indicate the data_dir to download the data to, the DATA.DATAPATH value in config\n",
    "\n",
    "# caltech101\n",
    "dataset_builder = tfds.builder(\"caltech101:3.*.*\", data_dir=data_dir)\n",
    "dataset_builder.download_and_prepare()\n",
    "\n",
    "# cifar100\n",
    "dataset_builder = tfds.builder(\"cifar100:3.*.*\", data_dir=data_dir)\n",
    "dataset_builder.download_and_prepare()\n",
    "\n",
    "# clevr\n",
    "dataset_builder = tfds.builder(\"clevr:3.*.*\", data_dir=data_dir)\n",
    "dataset_builder.download_and_prepare()\n",
    "\n",
    "# dmlab\n",
    "dataset_builder = tfds.builder(\"dmlab:2.0.1\", data_dir=data_dir)\n",
    "dataset_builder.download_and_prepare()\n",
    "\n",
    "# dsprites\n",
    "dataset_builder = tfds.builder(\"dsprites:2.*.*\", data_dir=data_dir)\n",
    "dataset_builder.download_and_prepare()\n",
    "\n",
    "# dtd\n",
    "dataset_builder = tfds.builder(\"dtd:3.*.*\", data_dir=data_dir)\n",
    "dataset_builder.download_and_prepare()\n",
    "\n",
    "# eurosat\n",
    "subset=\"rgb\"\n",
    "dataset_name = \"eurosat/{}:2.*.*\".format(subset)\n",
    "dataset_builder = tfds.builder(dataset_name, data_dir=data_dir)\n",
    "dataset_builder.download_and_prepare()\n",
    "\n",
    "# oxford_flowers102\n",
    "dataset_builder = tfds.builder(\"oxford_flowers102:2.*.*\", data_dir=data_dir)\n",
    "dataset_builder.download_and_prepare()\n",
    "\n",
    "# oxford_iiit_pet\n",
    "dataset_builder = tfds.builder(\"oxford_iiit_pet:3.*.*\", data_dir=data_dir)\n",
    "dataset_builder.download_and_prepare()\n",
    "\n",
    "# patch_camelyon\n",
    "dataset_builder = tfds.builder(\"patch_camelyon:2.*.*\", data_dir=data_dir)\n",
    "dataset_builder.download_and_prepare()\n",
    "\n",
    "# smallnorb\n",
    "dataset_builder = tfds.builder(\"smallnorb:2.*.*\", data_dir=data_dir)\n",
    "dataset_builder.download_and_prepare()\n",
    "\n",
    "# svhn\n",
    "dataset_builder = tfds.builder(\"svhn_cropped:3.*.*\", data_dir=data_dir)\n",
    "dataset_builder.download_and_prepare()"
   ]
  },
  {
   "cell_type": "code",
   "execution_count": null,
   "outputs": [],
   "source": [],
   "metadata": {
    "collapsed": false
   },
   "id": "ffe01baf9f77f43e"
  }
 ],
 "metadata": {
  "kernelspec": {
   "display_name": "Python 3",
   "language": "python",
   "name": "python3"
  },
  "language_info": {
   "codemirror_mode": {
    "name": "ipython",
    "version": 2
   },
   "file_extension": ".py",
   "mimetype": "text/x-python",
   "name": "python",
   "nbconvert_exporter": "python",
   "pygments_lexer": "ipython2",
   "version": "2.7.6"
  }
 },
 "nbformat": 4,
 "nbformat_minor": 5
}
