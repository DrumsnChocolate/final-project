{
 "cells": [
  {
   "cell_type": "code",
   "execution_count": 1,
   "outputs": [],
   "source": [
    "import glob\n",
    "import os"
   ],
   "metadata": {
    "collapsed": false,
    "ExecuteTime": {
     "end_time": "2023-09-15T19:03:54.207544097Z",
     "start_time": "2023-09-15T19:03:54.206782007Z"
    }
   },
   "id": "948599ba7894ca96"
  },
  {
   "cell_type": "code",
   "execution_count": 6,
   "outputs": [
    {
     "name": "stdout",
     "output_type": "stream",
     "text": [
      "\n",
      "0\n"
     ]
    }
   ],
   "source": [
    "files = glob.glob(\"*/*/sup_vitb16_imagenet21k/*/*/logs.txt\")\n",
    "failed = []\n",
    "for file in files:\n",
    "    with open(file) as f:\n",
    "        content = \"\\n\".join(f.readlines())\n",
    "        if not \"Training 3\" in content:  # this definitely means something is up, unless we were really quick to sync things\n",
    "            failed.append(file)\n",
    "\n",
    "print(\"\\n\\n\".join(failed))\n",
    "print(len(failed))\n",
    "for failure in failed:\n",
    "    os.remove(failure)"
   ],
   "metadata": {
    "collapsed": false,
    "ExecuteTime": {
     "end_time": "2023-09-15T19:12:47.551336718Z",
     "start_time": "2023-09-15T19:12:47.532197248Z"
    }
   },
   "id": "b3c14ab47b7dfd2c"
  },
  {
   "cell_type": "code",
   "execution_count": null,
   "outputs": [],
   "source": [],
   "metadata": {
    "collapsed": false
   },
   "id": "3acb50ef19d3eb0a"
  }
 ],
 "metadata": {
  "kernelspec": {
   "display_name": "Python 3",
   "language": "python",
   "name": "python3"
  },
  "language_info": {
   "codemirror_mode": {
    "name": "ipython",
    "version": 2
   },
   "file_extension": ".py",
   "mimetype": "text/x-python",
   "name": "python",
   "nbconvert_exporter": "python",
   "pygments_lexer": "ipython2",
   "version": "2.7.6"
  }
 },
 "nbformat": 4,
 "nbformat_minor": 5
}
