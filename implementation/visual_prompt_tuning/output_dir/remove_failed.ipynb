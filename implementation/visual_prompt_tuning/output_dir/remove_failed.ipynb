{
 "cells": [
  {
   "cell_type": "code",
   "execution_count": 1,
   "outputs": [],
   "source": [
    "import glob\n",
    "import os"
   ],
   "metadata": {
    "collapsed": false,
    "ExecuteTime": {
     "end_time": "2023-09-18T10:52:03.470775153Z",
     "start_time": "2023-09-18T10:52:03.457420652Z"
    }
   },
   "id": "948599ba7894ca96"
  },
  {
   "cell_type": "code",
   "execution_count": 7,
   "outputs": [
    {
     "name": "stdout",
     "output_type": "stream",
     "text": [
      "\n",
      "0\n"
     ]
    }
   ],
   "source": [
    "files = glob.glob(\"*/*/sup_vitb16_imagenet21k/*/*/logs.txt\")\n",
    "failed = []\n",
    "for file in files:\n",
    "    with open(file) as f:\n",
    "        content = \"\\n\".join(f.readlines())\n",
    "        if not \"Training 100\" in content:  # this means something is up, unless we didn't let the job finish\n",
    "            failed.append(file)\n",
    "\n",
    "print(\"\\n\\n\".join(failed))\n",
    "print(len(failed))\n",
    "for failure in failed:\n",
    "    os.remove(failure)"
   ],
   "metadata": {
    "collapsed": false,
    "ExecuteTime": {
     "end_time": "2023-09-18T11:00:00.274074178Z",
     "start_time": "2023-09-18T11:00:00.233087450Z"
    }
   },
   "id": "b3c14ab47b7dfd2c"
  },
  {
   "cell_type": "code",
   "execution_count": null,
   "outputs": [],
   "source": [],
   "metadata": {
    "collapsed": false
   },
   "id": "3acb50ef19d3eb0a"
  }
 ],
 "metadata": {
  "kernelspec": {
   "display_name": "Python 3",
   "language": "python",
   "name": "python3"
  },
  "language_info": {
   "codemirror_mode": {
    "name": "ipython",
    "version": 2
   },
   "file_extension": ".py",
   "mimetype": "text/x-python",
   "name": "python",
   "nbconvert_exporter": "python",
   "pygments_lexer": "ipython2",
   "version": "2.7.6"
  }
 },
 "nbformat": 4,
 "nbformat_minor": 5
}
