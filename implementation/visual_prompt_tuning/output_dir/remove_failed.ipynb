{
 "cells": [
  {
   "cell_type": "code",
   "execution_count": 1,
   "outputs": [],
   "source": [
    "import glob\n",
    "import os"
   ],
   "metadata": {
    "collapsed": false,
    "ExecuteTime": {
     "end_time": "2023-11-13T14:46:09.730971802Z",
     "start_time": "2023-11-13T14:46:09.730714090Z"
    }
   },
   "id": "948599ba7894ca96"
  },
  {
   "cell_type": "code",
   "execution_count": 26,
   "outputs": [
    {
     "name": "stdout",
     "output_type": "stream",
     "text": [
      "1208\n",
      "4\n",
      "{'vtab-caltech101', 'vtab-dsprites(predicted_attribute=\"label_orientation\",num_classes=16)', 'vtab-dsprites(predicted_attribute=\"label_x_position\",num_classes=16)'}\n",
      "vtab-dsprites(predicted_attribute=\"label_x_position\",num_classes=16)/sup_vitb16_imagenet21k/prompt50/crop224/test/seed9805/lr1.0_wd0.0/patience300/run1/logs.txt\n",
      "vtab-caltech101/sup_vitb16_imagenet21k/prompt50/crop224/val/seed0/lr50.0_wd0.01/patience300/run1/logs.txt\n",
      "vtab-dsprites(predicted_attribute=\"label_orientation\",num_classes=16)/sup_vitb16_imagenet21k/prompt50/crop224/test/seed875/lr0.1_wd0.001/patience300/run1/logs.txt\n",
      "vtab-dsprites(predicted_attribute=\"label_orientation\",num_classes=16)/sup_vitb16_imagenet21k/prompt50/crop224/test/seed9805/lr0.1_wd0.001/patience300/run1/logs.txt\n"
     ]
    }
   ],
   "source": [
    "files = glob.glob(\"*/sup_vitb16_imagenet21k/*/*/*/*/*/*/*/logs.txt\")\n",
    "print(len(files))\n",
    "failed = []\n",
    "for file in files:\n",
    "    with open(file) as f:\n",
    "        content = \"\\n\".join(f.readlines())\n",
    "        if not \"Stopping\" in content and not \"Training 100\" in content:\n",
    "            failed.append(file)\n",
    "print(len(failed))\n",
    "# print(failed)\n",
    "print(set([file.split(\"/\")[0] for file in failed]))\n",
    "for failure in failed:\n",
    "    if failure.split(\"/\")[0] == \"mammo-cbis\":\n",
    "        # print(failure)\n",
    "        # with open(failure) as f:\n",
    "        #     lines = f.readlines()\n",
    "        #     print(lines[-1])\n",
    "        os.remove(failure)\n",
    "    print(failure)\n",
    "\n",
    "# print(\"\\n\\n\".join(failed))\n",
    "# print(len(failed))\n",
    "# for failure in failed:\n",
    "#     os.remove(failure)"
   ],
   "metadata": {
    "collapsed": false,
    "ExecuteTime": {
     "end_time": "2023-11-13T15:00:17.965873440Z",
     "start_time": "2023-11-13T15:00:17.778021072Z"
    }
   },
   "id": "b3c14ab47b7dfd2c"
  },
  {
   "cell_type": "code",
   "execution_count": 28,
   "outputs": [],
   "source": [
    "files = glob.glob(\"*/sup_vitb16_imagenet21k/*/*/*/*/*/*/*/logs.txt\")\n",
    "\n",
    "for file in files:\n",
    "    if not \"mammo\" in file:\n",
    "        continue\n",
    "    if not \"800\" in file:\n",
    "        continue\n",
    "    print(file)"
   ],
   "metadata": {
    "collapsed": false,
    "ExecuteTime": {
     "end_time": "2023-11-13T15:03:45.655788431Z",
     "start_time": "2023-11-13T15:03:45.592974895Z"
    }
   },
   "id": "3acb50ef19d3eb0a"
  },
  {
   "cell_type": "code",
   "execution_count": null,
   "outputs": [],
   "source": [],
   "metadata": {
    "collapsed": false
   },
   "id": "616ea8a7cc951481"
  }
 ],
 "metadata": {
  "kernelspec": {
   "display_name": "Python 3",
   "language": "python",
   "name": "python3"
  },
  "language_info": {
   "codemirror_mode": {
    "name": "ipython",
    "version": 2
   },
   "file_extension": ".py",
   "mimetype": "text/x-python",
   "name": "python",
   "nbconvert_exporter": "python",
   "pygments_lexer": "ipython2",
   "version": "2.7.6"
  }
 },
 "nbformat": 4,
 "nbformat_minor": 5
}
