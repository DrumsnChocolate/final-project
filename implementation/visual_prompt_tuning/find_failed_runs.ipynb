{
 "cells": [
  {
   "cell_type": "code",
   "execution_count": null,
   "outputs": [],
   "source": [
    "import glob\n",
    "from src.utils.vis_utils import get_df\n"
   ],
   "metadata": {
    "collapsed": false
   },
   "id": "2d9be23d5a3ba6fd"
  },
  {
   "cell_type": "code",
   "execution_count": null,
   "id": "initial_id",
   "metadata": {
    "collapsed": true
   },
   "outputs": [],
   "source": [
    "root = \"output_dir\"\n",
    "pattern = f\"{root}/*/sup_vitb16_imagenet21k/*/*/*/*/*/*/*/logs.txt\"\n",
    "files = glob.glob(pattern)\n",
    "\n",
    "df = get_df(files, is_best=True, is_last=False)\n",
    "df['cuda_fail'] = "
   ]
  }
 ],
 "metadata": {
  "kernelspec": {
   "display_name": "Python 3",
   "language": "python",
   "name": "python3"
  },
  "language_info": {
   "codemirror_mode": {
    "name": "ipython",
    "version": 2
   },
   "file_extension": ".py",
   "mimetype": "text/x-python",
   "name": "python",
   "nbconvert_exporter": "python",
   "pygments_lexer": "ipython2",
   "version": "2.7.6"
  }
 },
 "nbformat": 4,
 "nbformat_minor": 5
}
