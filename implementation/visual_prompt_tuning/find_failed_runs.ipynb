{
 "cells": [
  {
   "cell_type": "code",
   "execution_count": 1,
   "outputs": [],
   "source": [
    "from tune_vtab import find_best_lrwd\n",
    "import glob\n"
   ],
   "metadata": {
    "collapsed": false,
    "ExecuteTime": {
     "end_time": "2023-11-13T15:40:52.300736606Z",
     "start_time": "2023-11-13T15:40:50.196881605Z"
    }
   },
   "id": "5bcce523a01d5b53"
  },
  {
   "cell_type": "code",
   "execution_count": 2,
   "outputs": [],
   "source": [
    "files = glob.glob(\"output_dir/mammo-cbis/sup_vitb16_imagenet21k/prompt50/size200/val/*/*/*/run1/eval_results.pth\")"
   ],
   "metadata": {
    "collapsed": false,
    "ExecuteTime": {
     "end_time": "2023-11-13T15:40:52.904734437Z",
     "start_time": "2023-11-13T15:40:52.898754505Z"
    }
   },
   "id": "ecd017e6a2438aa"
  },
  {
   "cell_type": "code",
   "execution_count": 3,
   "outputs": [
    {
     "name": "stdout",
     "output_type": "stream",
     "text": [
      "0.25 0.001\n"
     ]
    }
   ],
   "source": [
    "lr, wd = find_best_lrwd(files, \"mammo-cbis\")\n",
    "print(lr, wd)"
   ],
   "metadata": {
    "collapsed": false,
    "ExecuteTime": {
     "end_time": "2023-11-13T15:40:53.602492259Z",
     "start_time": "2023-11-13T15:40:53.518116963Z"
    }
   },
   "id": "19352e9eb03e1561"
  },
  {
   "cell_type": "code",
   "execution_count": null,
   "outputs": [],
   "source": [],
   "metadata": {
    "collapsed": false
   },
   "id": "392908384b807db8"
  }
 ],
 "metadata": {
  "kernelspec": {
   "display_name": "Python 3",
   "language": "python",
   "name": "python3"
  },
  "language_info": {
   "codemirror_mode": {
    "name": "ipython",
    "version": 2
   },
   "file_extension": ".py",
   "mimetype": "text/x-python",
   "name": "python",
   "nbconvert_exporter": "python",
   "pygments_lexer": "ipython2",
   "version": "2.7.6"
  }
 },
 "nbformat": 4,
 "nbformat_minor": 5
}
