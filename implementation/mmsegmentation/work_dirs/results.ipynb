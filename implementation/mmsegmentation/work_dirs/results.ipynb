{
 "cells": [
  {
   "cell_type": "code",
   "execution_count": 1,
   "outputs": [],
   "source": [
    "import os\n",
    "from datetime import datetime, timedelta\n",
    "import pandas as pd"
   ],
   "metadata": {
    "collapsed": false,
    "ExecuteTime": {
     "end_time": "2023-11-27T14:34:26.052247221Z",
     "start_time": "2023-11-27T14:34:25.540846227Z"
    }
   },
   "id": "cf0b841cfe1fadb8"
  },
  {
   "cell_type": "code",
   "execution_count": 2,
   "id": "initial_id",
   "metadata": {
    "collapsed": true,
    "ExecuteTime": {
     "end_time": "2023-11-27T14:34:27.840087014Z",
     "start_time": "2023-11-27T14:34:27.833806536Z"
    }
   },
   "outputs": [],
   "source": [
    "current_dir = os.getcwd()\n",
    "\n",
    "config_name_pattern = 'setr_vit-l'\n",
    "\n",
    "def listdir(*rel_paths):\n",
    "    return os.listdir(os.path.join(current_dir, *rel_paths))\n",
    "\n",
    "def isdir(*rel_paths):\n",
    "    return os.path.isdir(os.path.join(current_dir, *rel_paths))\n"
   ]
  },
  {
   "cell_type": "code",
   "execution_count": 3,
   "outputs": [
    {
     "name": "stdout",
     "output_type": "stream",
     "text": [
      "['setr_vit-l_pup-noaux_8xb2-160k_ade20k-512x512', 'setrvpt_vit-b-224_pup-noaux_8xb2-160k_ade20k-512x512', 'setrvpt_vit-l_pup-noaux_8xb2-160k_ade20k-512x512', 'setrvpt_vit-l_pup_8xb2-160k_ade20k-512x512', 'setrvpt_vit-l_pup_8xb2-160k_cbis-ddsm-binary-512x512', 'setr_vit-l_pup_8xb2-160k_ade20k-512x512', 'setrvpt_vit-l_pup_1xb16-160k_ade20k-512x512', 'results.ipynb', 'setr_vit-b-224_pup-noaux_8xb2-160k_ade20k-512x512']\n"
     ]
    }
   ],
   "source": [
    "work_dirs = os.listdir()\n",
    "print(work_dirs)\n",
    "matching_work_dirs = filter(lambda x: config_name_pattern in x, work_dirs)"
   ],
   "metadata": {
    "collapsed": false,
    "ExecuteTime": {
     "end_time": "2023-11-27T14:34:28.726101465Z",
     "start_time": "2023-11-27T14:34:28.722656330Z"
    }
   },
   "id": "ed6f00ae0014eac4"
  },
  {
   "cell_type": "code",
   "execution_count": 4,
   "outputs": [
    {
     "ename": "StopIteration",
     "evalue": "",
     "output_type": "error",
     "traceback": [
      "\u001B[0;31m---------------------------------------------------------------------------\u001B[0m",
      "\u001B[0;31mStopIteration\u001B[0m                             Traceback (most recent call last)",
      "Cell \u001B[0;32mIn[4], line 6\u001B[0m\n\u001B[1;32m      4\u001B[0m         \u001B[38;5;28;01mif\u001B[39;00m \u001B[38;5;129;01mnot\u001B[39;00m isdir(work_dir, run_dir):\n\u001B[1;32m      5\u001B[0m             \u001B[38;5;28;01mcontinue\u001B[39;00m\n\u001B[0;32m----> 6\u001B[0m         logfile \u001B[38;5;241m=\u001B[39m \u001B[38;5;28;43mfilter\u001B[39;49m\u001B[43m(\u001B[49m\u001B[38;5;28;43;01mlambda\u001B[39;49;00m\u001B[43m \u001B[49m\u001B[43mx\u001B[49m\u001B[43m:\u001B[49m\u001B[43m \u001B[49m\u001B[38;5;124;43m'\u001B[39;49m\u001B[38;5;124;43m.log\u001B[39;49m\u001B[38;5;124;43m'\u001B[39;49m\u001B[43m \u001B[49m\u001B[38;5;129;43;01min\u001B[39;49;00m\u001B[43m \u001B[49m\u001B[43mx\u001B[49m\u001B[43m,\u001B[49m\u001B[43m \u001B[49m\u001B[43mlistdir\u001B[49m\u001B[43m(\u001B[49m\u001B[43mwork_dir\u001B[49m\u001B[43m,\u001B[49m\u001B[43m \u001B[49m\u001B[43mrun_dir\u001B[49m\u001B[43m)\u001B[49m\u001B[43m)\u001B[49m\u001B[38;5;241;43m.\u001B[39;49m\u001B[38;5;21;43m__next__\u001B[39;49m\u001B[43m(\u001B[49m\u001B[43m)\u001B[49m\n\u001B[1;32m      7\u001B[0m         logfiles\u001B[38;5;241m.\u001B[39mappend(os\u001B[38;5;241m.\u001B[39mpath\u001B[38;5;241m.\u001B[39mjoin(work_dir, run_dir, logfile))\n\u001B[1;32m      8\u001B[0m \u001B[38;5;28mprint\u001B[39m(logfiles)\n",
      "\u001B[0;31mStopIteration\u001B[0m: "
     ]
    }
   ],
   "source": [
    "logfiles = []\n",
    "for work_dir in matching_work_dirs:\n",
    "    for run_dir in listdir(work_dir):\n",
    "        if not isdir(work_dir, run_dir):\n",
    "            continue\n",
    "        logfile = filter(lambda x: '.log' in x, listdir(work_dir, run_dir)).__next__()\n",
    "        logfiles.append(os.path.join(work_dir, run_dir, logfile))\n",
    "print(logfiles)\n",
    "\n"
   ],
   "metadata": {
    "collapsed": false,
    "ExecuteTime": {
     "end_time": "2023-11-27T14:35:04.608018778Z",
     "start_time": "2023-11-27T14:35:04.450585286Z"
    }
   },
   "id": "ce51ced248d7d372"
  },
  {
   "cell_type": "code",
   "execution_count": 65,
   "outputs": [],
   "source": [
    "def parse_train_line(line):\n",
    "    parsed_line = {}\n",
    "    t_str = line.split('- mmengine -')[0].strip()\n",
    "    t = datetime.strptime(t_str, '%Y/%m/%d %H:%M:%S')\n",
    "    iteration_str = line.split('Iter(train) [')[1].split(']')[0].strip().split('/')[0]\n",
    "    iteration = int(iteration_str)\n",
    "    \n",
    "    parsed_line['at_iteration'] = iteration\n",
    "    parsed_line['time'] = t\n",
    "    parsed_line['type'] = 'train'\n",
    "    return parsed_line\n",
    "    \n",
    "\n",
    "def parse_val_line(line):\n",
    "    parsed_line = {}\n",
    "    t_str = line.split('- mmengine -')[0].strip()\n",
    "    t = datetime.strptime(t_str, '%Y/%m/%d %H:%M:%S')\n",
    "    iteration_str = line.split('Iter(val) [')[1].split(']')[0].strip().split('/')[0]\n",
    "    iteration = int(iteration_str)\n",
    "    \n",
    "    parsed_line['at_iteration'] = iteration\n",
    "    parsed_line['time'] = t\n",
    "    parsed_line['type'] = 'val'\n",
    "    return parsed_line\n",
    "\n",
    "def calculate_time_after(parsed_lines):\n",
    "    for i, line in enumerate(parsed_lines):\n",
    "        line['duration_after'] = timedelta(0)\n",
    "        if i < len(parsed_lines) - 1:\n",
    "            line['duration_after'] = parsed_lines[i+1]['time'] - line['time']\n",
    "\n",
    "def calculate_time_before(parsed_lines):\n",
    "    for i, line in enumerate(parsed_lines):\n",
    "        line['duration_before'] = timedelta(0)\n",
    "        if i > 0:\n",
    "            line['duration_before'] = line['time'] - parsed_lines[i-1]['time']\n",
    "        \n",
    "def calculate_inbetween_times(parsed_lines):\n",
    "    calculate_time_after(parsed_lines)\n",
    "    calculate_time_before(parsed_lines)\n",
    "\n",
    "def calculate_iterations_per_line(parsed_lines):\n",
    "    for i, line in enumerate(parsed_lines):\n",
    "        if i > 0 and line['type'] == parsed_lines[i-1]['type']:\n",
    "            line['iterations'] = line['at_iteration'] - parsed_lines[i-1]['at_iteration']\n",
    "            continue\n",
    "        line['iterations'] = line['at_iteration']\n",
    "\n",
    "def calculate_duration_per_iteration(parsed_lines):\n",
    "    for line in parsed_lines:\n",
    "        line['duration_per_iteration'] = line['duration_before'] / line['iterations']        \n",
    "    \n",
    "\n",
    "def parse_logfile(rel_log_path):\n",
    "    parsed_lines = []\n",
    "    train_pattern = \"Iter(train)\"\n",
    "    val_pattern = \"Iter(val)\"\n",
    "    with open(os.path.join(current_dir, rel_log_path), 'r') as f:\n",
    "        lines = f.readlines()\n",
    "        for line in lines:\n",
    "            parsed_line = None\n",
    "            if train_pattern in line:\n",
    "                parsed_line = parse_train_line(line)\n",
    "            if val_pattern in line:\n",
    "                parsed_line = parse_val_line(line)\n",
    "            if parsed_line is None:\n",
    "                continue\n",
    "            parsed_lines.append(parsed_line)\n",
    "    # for now, let's filter out lines that report the same iteration as a previous line\n",
    "    parsed_lines = [parsed_line for i, parsed_line in enumerate(parsed_lines) if i == 0 or parsed_line['at_iteration'] != parsed_lines[i-1]['at_iteration']]\n",
    "    calculate_inbetween_times(parsed_lines)\n",
    "    calculate_iterations_per_line(parsed_lines)\n",
    "    calculate_duration_per_iteration(parsed_lines)\n",
    "    return parsed_lines\n",
    "            \n",
    "parsed_logfiles = {}\n",
    "for logfile in logfiles:\n",
    "    parsed_logfiles[logfile] = parse_logfile(logfile)\n",
    "    \n"
   ],
   "metadata": {
    "collapsed": false,
    "ExecuteTime": {
     "end_time": "2023-11-19T16:00:30.643407113Z",
     "start_time": "2023-11-19T16:00:30.625232895Z"
    }
   },
   "id": "b43e87da490e3de2"
  },
  {
   "cell_type": "code",
   "execution_count": 66,
   "outputs": [
    {
     "data": {
      "text/plain": "      at_iteration                time   type  duration_after duration_before  \\\n0               50 2023-10-23 14:02:39  train 0 days 00:00:57 0 days 00:00:00   \n1              100 2023-10-23 14:03:36  train 0 days 00:00:58 0 days 00:00:57   \n2              150 2023-10-23 14:04:34  train 0 days 00:00:57 0 days 00:00:58   \n3              200 2023-10-23 14:05:31  train 0 days 00:00:56 0 days 00:00:57   \n4              250 2023-10-23 14:06:27  train 0 days 00:00:57 0 days 00:00:56   \n...            ...                 ...    ...             ...             ...   \n3295           300 2023-10-25 16:54:35    val 0 days 00:00:06 0 days 00:00:08   \n3296           350 2023-10-25 16:54:41    val 0 days 00:00:08 0 days 00:00:06   \n3297           400 2023-10-25 16:54:49    val 0 days 00:00:07 0 days 00:00:08   \n3298           450 2023-10-25 16:54:56    val 0 days 00:00:07 0 days 00:00:07   \n3299           500 2023-10-25 16:55:03    val 0 days 00:00:00 0 days 00:00:07   \n\n      iterations duration_per_iteration  \n0             50        0 days 00:00:00  \n1             50 0 days 00:00:01.140000  \n2             50 0 days 00:00:01.160000  \n3             50 0 days 00:00:01.140000  \n4             50 0 days 00:00:01.120000  \n...          ...                    ...  \n3295          50 0 days 00:00:00.160000  \n3296          50 0 days 00:00:00.120000  \n3297          50 0 days 00:00:00.160000  \n3298          50 0 days 00:00:00.140000  \n3299          50 0 days 00:00:00.140000  \n\n[3300 rows x 7 columns]",
      "text/html": "<div>\n<style scoped>\n    .dataframe tbody tr th:only-of-type {\n        vertical-align: middle;\n    }\n\n    .dataframe tbody tr th {\n        vertical-align: top;\n    }\n\n    .dataframe thead th {\n        text-align: right;\n    }\n</style>\n<table border=\"1\" class=\"dataframe\">\n  <thead>\n    <tr style=\"text-align: right;\">\n      <th></th>\n      <th>at_iteration</th>\n      <th>time</th>\n      <th>type</th>\n      <th>duration_after</th>\n      <th>duration_before</th>\n      <th>iterations</th>\n      <th>duration_per_iteration</th>\n    </tr>\n  </thead>\n  <tbody>\n    <tr>\n      <th>0</th>\n      <td>50</td>\n      <td>2023-10-23 14:02:39</td>\n      <td>train</td>\n      <td>0 days 00:00:57</td>\n      <td>0 days 00:00:00</td>\n      <td>50</td>\n      <td>0 days 00:00:00</td>\n    </tr>\n    <tr>\n      <th>1</th>\n      <td>100</td>\n      <td>2023-10-23 14:03:36</td>\n      <td>train</td>\n      <td>0 days 00:00:58</td>\n      <td>0 days 00:00:57</td>\n      <td>50</td>\n      <td>0 days 00:00:01.140000</td>\n    </tr>\n    <tr>\n      <th>2</th>\n      <td>150</td>\n      <td>2023-10-23 14:04:34</td>\n      <td>train</td>\n      <td>0 days 00:00:57</td>\n      <td>0 days 00:00:58</td>\n      <td>50</td>\n      <td>0 days 00:00:01.160000</td>\n    </tr>\n    <tr>\n      <th>3</th>\n      <td>200</td>\n      <td>2023-10-23 14:05:31</td>\n      <td>train</td>\n      <td>0 days 00:00:56</td>\n      <td>0 days 00:00:57</td>\n      <td>50</td>\n      <td>0 days 00:00:01.140000</td>\n    </tr>\n    <tr>\n      <th>4</th>\n      <td>250</td>\n      <td>2023-10-23 14:06:27</td>\n      <td>train</td>\n      <td>0 days 00:00:57</td>\n      <td>0 days 00:00:56</td>\n      <td>50</td>\n      <td>0 days 00:00:01.120000</td>\n    </tr>\n    <tr>\n      <th>...</th>\n      <td>...</td>\n      <td>...</td>\n      <td>...</td>\n      <td>...</td>\n      <td>...</td>\n      <td>...</td>\n      <td>...</td>\n    </tr>\n    <tr>\n      <th>3295</th>\n      <td>300</td>\n      <td>2023-10-25 16:54:35</td>\n      <td>val</td>\n      <td>0 days 00:00:06</td>\n      <td>0 days 00:00:08</td>\n      <td>50</td>\n      <td>0 days 00:00:00.160000</td>\n    </tr>\n    <tr>\n      <th>3296</th>\n      <td>350</td>\n      <td>2023-10-25 16:54:41</td>\n      <td>val</td>\n      <td>0 days 00:00:08</td>\n      <td>0 days 00:00:06</td>\n      <td>50</td>\n      <td>0 days 00:00:00.120000</td>\n    </tr>\n    <tr>\n      <th>3297</th>\n      <td>400</td>\n      <td>2023-10-25 16:54:49</td>\n      <td>val</td>\n      <td>0 days 00:00:07</td>\n      <td>0 days 00:00:08</td>\n      <td>50</td>\n      <td>0 days 00:00:00.160000</td>\n    </tr>\n    <tr>\n      <th>3298</th>\n      <td>450</td>\n      <td>2023-10-25 16:54:56</td>\n      <td>val</td>\n      <td>0 days 00:00:07</td>\n      <td>0 days 00:00:07</td>\n      <td>50</td>\n      <td>0 days 00:00:00.140000</td>\n    </tr>\n    <tr>\n      <th>3299</th>\n      <td>500</td>\n      <td>2023-10-25 16:55:03</td>\n      <td>val</td>\n      <td>0 days 00:00:00</td>\n      <td>0 days 00:00:07</td>\n      <td>50</td>\n      <td>0 days 00:00:00.140000</td>\n    </tr>\n  </tbody>\n</table>\n<p>3300 rows × 7 columns</p>\n</div>"
     },
     "metadata": {},
     "output_type": "display_data"
    },
    {
     "data": {
      "text/plain": "       duration_after                                                      \\\n                  sum                      mean                       std   \ntype                                                                        \ntrain 2 days 02:32:47 0 days 00:00:56.864687500 0 days 00:00:02.158056626   \nval   0 days 00:19:37    0 days 00:00:11.770000 0 days 00:00:14.779767087   \n\n      duration_before                                                   \\\n                  sum                   mean                       std   \ntype                                                                     \ntrain 2 days 02:38:12 0 days 00:00:56.966250 0 days 00:00:01.182390725   \nval   0 days 00:14:12 0 days 00:00:08.520000 0 days 00:00:04.083670363   \n\n      iterations                        duration_per_iteration  \\\n             sum   mean          std                      mean   \ntype                                                             \ntrain     880000  275.0  4770.375918 0 days 00:00:01.136046960   \nval         5000   50.0     0.000000    0 days 00:00:00.170400   \n\n                                 \n                            std  \ntype                             \ntrain 0 days 00:00:00.064732105  \nval   0 days 00:00:00.081673407  ",
      "text/html": "<div>\n<style scoped>\n    .dataframe tbody tr th:only-of-type {\n        vertical-align: middle;\n    }\n\n    .dataframe tbody tr th {\n        vertical-align: top;\n    }\n\n    .dataframe thead tr th {\n        text-align: left;\n    }\n\n    .dataframe thead tr:last-of-type th {\n        text-align: right;\n    }\n</style>\n<table border=\"1\" class=\"dataframe\">\n  <thead>\n    <tr>\n      <th></th>\n      <th colspan=\"3\" halign=\"left\">duration_after</th>\n      <th colspan=\"3\" halign=\"left\">duration_before</th>\n      <th colspan=\"3\" halign=\"left\">iterations</th>\n      <th colspan=\"2\" halign=\"left\">duration_per_iteration</th>\n    </tr>\n    <tr>\n      <th></th>\n      <th>sum</th>\n      <th>mean</th>\n      <th>std</th>\n      <th>sum</th>\n      <th>mean</th>\n      <th>std</th>\n      <th>sum</th>\n      <th>mean</th>\n      <th>std</th>\n      <th>mean</th>\n      <th>std</th>\n    </tr>\n    <tr>\n      <th>type</th>\n      <th></th>\n      <th></th>\n      <th></th>\n      <th></th>\n      <th></th>\n      <th></th>\n      <th></th>\n      <th></th>\n      <th></th>\n      <th></th>\n      <th></th>\n    </tr>\n  </thead>\n  <tbody>\n    <tr>\n      <th>train</th>\n      <td>2 days 02:32:47</td>\n      <td>0 days 00:00:56.864687500</td>\n      <td>0 days 00:00:02.158056626</td>\n      <td>2 days 02:38:12</td>\n      <td>0 days 00:00:56.966250</td>\n      <td>0 days 00:00:01.182390725</td>\n      <td>880000</td>\n      <td>275.0</td>\n      <td>4770.375918</td>\n      <td>0 days 00:00:01.136046960</td>\n      <td>0 days 00:00:00.064732105</td>\n    </tr>\n    <tr>\n      <th>val</th>\n      <td>0 days 00:19:37</td>\n      <td>0 days 00:00:11.770000</td>\n      <td>0 days 00:00:14.779767087</td>\n      <td>0 days 00:14:12</td>\n      <td>0 days 00:00:08.520000</td>\n      <td>0 days 00:00:04.083670363</td>\n      <td>5000</td>\n      <td>50.0</td>\n      <td>0.000000</td>\n      <td>0 days 00:00:00.170400</td>\n      <td>0 days 00:00:00.081673407</td>\n    </tr>\n  </tbody>\n</table>\n</div>"
     },
     "metadata": {},
     "output_type": "display_data"
    },
    {
     "name": "stdout",
     "output_type": "stream",
     "text": [
      "percentage of time spent on training vs validation:\n",
      "type\n",
      "train    0.995348\n",
      "val      0.004652\n",
      "Name: sum, dtype: float64\n"
     ]
    }
   ],
   "source": [
    "\n",
    "for logfile in logfiles:\n",
    "    parsed_logfile = parsed_logfiles[logfile]\n",
    "    if len(parsed_logfile) == 0:\n",
    "        continue\n",
    "    df = pd.DataFrame(parsed_logfiles[logfile])\n",
    "    display(df)\n",
    "    aggregate_df = df.groupby('type').agg({'duration_after': ['sum', 'mean', 'std'], 'duration_before': ['sum', 'mean', 'std'], 'iterations': ['sum', 'mean', 'std'], 'duration_per_iteration': ['mean', 'std']})\n",
    "    display(aggregate_df)\n",
    "\n",
    "    # percentage of time spent on training vs validation:\n",
    "    print('percentage of time spent on training vs validation:')\n",
    "    print(aggregate_df['duration_before']['sum'] / aggregate_df['duration_before']['sum'].sum())\n"
   ],
   "metadata": {
    "collapsed": false,
    "ExecuteTime": {
     "end_time": "2023-11-19T16:00:30.671791310Z",
     "start_time": "2023-11-19T16:00:30.658403158Z"
    }
   },
   "id": "66fd6e5082bc208e"
  }
 ],
 "metadata": {
  "kernelspec": {
   "display_name": "Python 3",
   "language": "python",
   "name": "python3"
  },
  "language_info": {
   "codemirror_mode": {
    "name": "ipython",
    "version": 2
   },
   "file_extension": ".py",
   "mimetype": "text/x-python",
   "name": "python",
   "nbconvert_exporter": "python",
   "pygments_lexer": "ipython2",
   "version": "2.7.6"
  }
 },
 "nbformat": 4,
 "nbformat_minor": 5
}
