{
 "cells": [
  {
   "cell_type": "code",
   "execution_count": 1,
   "id": "initial_id",
   "metadata": {
    "collapsed": true,
    "ExecuteTime": {
     "end_time": "2023-11-29T14:23:42.036567554Z",
     "start_time": "2023-11-29T14:23:41.877654826Z"
    }
   },
   "outputs": [],
   "source": [
    "import os\n",
    "import shutil\n",
    "from mmengine.config import Config\n",
    "import json"
   ]
  },
  {
   "cell_type": "code",
   "execution_count": 2,
   "outputs": [],
   "source": [
    "current_dir = os.getcwd()\n",
    "\n",
    "def listdir(*rel_paths):\n",
    "    return os.listdir(os.path.join(current_dir, *rel_paths))\n",
    "\n",
    "def isdir(*rel_paths):\n",
    "    return os.path.isdir(os.path.join(current_dir, *rel_paths))\n",
    "\n",
    "def join(*rel_paths):\n",
    "    return os.path.join(current_dir, *rel_paths)\n",
    "\n",
    "def isfile(*rel_paths):\n",
    "    return os.path.isfile(join(*rel_paths))\n",
    "\n",
    "def rmdir(*rel_paths):\n",
    "    return shutil.rmtree(join(*rel_paths), ignore_errors=True)\n",
    "\n",
    "def get_log_runs():\n",
    "    work_dirs = [d for d in os.listdir() if isdir(d)]\n",
    "    print(f'work dirs: {len(work_dirs)}')\n",
    "    log_runs = [(work_dir, d) for work_dir in work_dirs for d in listdir(work_dir) if isdir(work_dir,d)]\n",
    "    print(f'log runs: {len(log_runs)}')\n",
    "    return log_runs\n",
    "\n",
    "def started_train_run(work_dir, d):\n",
    "    return isfile(work_dir, d, 'vis_data', f'{d}.json')\n",
    "\n",
    "def started_test_run(work_dir, d):\n",
    "    return isfile(work_dir, d, f'{d}.json')\n",
    "\n",
    "def remove_runs(runs):\n",
    "    for run in runs:\n",
    "        rmdir(*run)\n",
    "    "
   ],
   "metadata": {
    "collapsed": false,
    "ExecuteTime": {
     "end_time": "2023-11-29T14:23:42.043254082Z",
     "start_time": "2023-11-29T14:23:42.041169339Z"
    }
   },
   "id": "8b906a003906edab"
  },
  {
   "cell_type": "code",
   "execution_count": 3,
   "outputs": [
    {
     "name": "stdout",
     "output_type": "stream",
     "text": [
      "work dirs: 4\n",
      "log runs: 10\n",
      "failed to start: 0\n"
     ]
    }
   ],
   "source": [
    "log_runs = get_log_runs()\n",
    "failed_to_start = [log_run for log_run in log_runs if (not started_train_run(*log_run) and not started_test_run(*log_run))]\n",
    "print(f'failed to start: {len(failed_to_start)}')\n",
    "remove_runs(failed_to_start)"
   ],
   "metadata": {
    "collapsed": false,
    "ExecuteTime": {
     "end_time": "2023-11-29T14:23:42.060473881Z",
     "start_time": "2023-11-29T14:23:42.043777691Z"
    }
   },
   "id": "e75feeba79703798"
  },
  {
   "cell_type": "code",
   "execution_count": 4,
   "outputs": [
    {
     "name": "stdout",
     "output_type": "stream",
     "text": [
      "work dirs: 4\n",
      "log runs: 10\n",
      "failed to complete: 0\n"
     ]
    }
   ],
   "source": [
    "log_runs = get_log_runs()\n",
    "\n",
    "def load_training_data(work_dir, d):\n",
    "    with open(join(work_dir, d, 'vis_data', f'{d}.json')) as f:\n",
    "        data = f.readlines()\n",
    "        data = [json.loads(line) for line in data]\n",
    "        return data\n",
    "\n",
    "def completed_training(work_dir, d):\n",
    "    data = load_training_data(work_dir, d)\n",
    "    iteration = data[-2].get('iter')\n",
    "    if iteration is None:\n",
    "        return False\n",
    "    config = Config.fromfile(join(work_dir, d, 'vis_data', 'config.py'))\n",
    "    return iteration == config.train_cfg.max_iters\n",
    "\n",
    "train_runs = [log_run for log_run in log_runs if started_train_run(*log_run)]\n",
    "\n",
    "failed_to_complete = [train_run for train_run in train_runs if not completed_training(*train_run)]\n",
    "print(f'failed to complete: {len(failed_to_complete)}')\n",
    "remove_runs(failed_to_complete)"
   ],
   "metadata": {
    "collapsed": false,
    "ExecuteTime": {
     "end_time": "2023-11-29T14:23:42.281755182Z",
     "start_time": "2023-11-29T14:23:42.058800168Z"
    }
   },
   "id": "14df96e68f46717"
  },
  {
   "cell_type": "code",
   "execution_count": 4,
   "outputs": [],
   "source": [],
   "metadata": {
    "collapsed": false,
    "ExecuteTime": {
     "end_time": "2023-11-29T14:23:42.281938114Z",
     "start_time": "2023-11-29T14:23:42.278384586Z"
    }
   },
   "id": "6f8cf7490e78c277"
  }
 ],
 "metadata": {
  "kernelspec": {
   "display_name": "Python 3",
   "language": "python",
   "name": "python3"
  },
  "language_info": {
   "codemirror_mode": {
    "name": "ipython",
    "version": 2
   },
   "file_extension": ".py",
   "mimetype": "text/x-python",
   "name": "python",
   "nbconvert_exporter": "python",
   "pygments_lexer": "ipython2",
   "version": "2.7.6"
  }
 },
 "nbformat": 4,
 "nbformat_minor": 5
}
