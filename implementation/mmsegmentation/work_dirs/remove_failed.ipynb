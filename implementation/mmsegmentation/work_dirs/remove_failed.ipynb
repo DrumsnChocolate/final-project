{
 "cells": [
  {
   "cell_type": "code",
   "execution_count": 1,
   "id": "initial_id",
   "metadata": {
    "collapsed": true,
    "ExecuteTime": {
     "end_time": "2023-11-29T12:32:58.116474102Z",
     "start_time": "2023-11-29T12:32:58.115417536Z"
    }
   },
   "outputs": [],
   "source": [
    "import os\n",
    "import shutil"
   ]
  },
  {
   "cell_type": "code",
   "execution_count": 2,
   "outputs": [],
   "source": [
    "current_dir = os.getcwd()\n",
    "\n",
    "def listdir(*rel_paths):\n",
    "    return os.listdir(os.path.join(current_dir, *rel_paths))\n",
    "\n",
    "def isdir(*rel_paths):\n",
    "    return os.path.isdir(os.path.join(current_dir, *rel_paths))\n",
    "\n",
    "def join(*rel_paths):\n",
    "    return os.path.join(current_dir, *rel_paths)\n",
    "\n",
    "def isfile(*rel_paths):\n",
    "    return os.path.isfile(join(*rel_paths))\n",
    "\n",
    "def rmdir(*rel_paths):\n",
    "    return shutil.rmtree(join(*rel_paths), ignore_errors=True)"
   ],
   "metadata": {
    "collapsed": false,
    "ExecuteTime": {
     "end_time": "2023-11-29T12:32:58.605073212Z",
     "start_time": "2023-11-29T12:32:58.602524016Z"
    }
   },
   "id": "8b906a003906edab"
  },
  {
   "cell_type": "code",
   "execution_count": 3,
   "outputs": [
    {
     "name": "stdout",
     "output_type": "stream",
     "text": [
      "work dirs: 4\n",
      "log runs: 14\n"
     ]
    }
   ],
   "source": [
    "work_dirs = [d for d in os.listdir() if isdir(d)]\n",
    "print(f'work dirs: {len(work_dirs)}')\n",
    "log_runs = [(work_dir, d) for work_dir in work_dirs for d in listdir(work_dir) if isdir(work_dir,d)]\n",
    "print(f'log runs: {len(log_runs)}')"
   ],
   "metadata": {
    "collapsed": false,
    "ExecuteTime": {
     "end_time": "2023-11-29T12:32:59.215078719Z",
     "start_time": "2023-11-29T12:32:59.211771288Z"
    }
   },
   "id": "985b3d7bf8b3d945"
  },
  {
   "cell_type": "code",
   "execution_count": 4,
   "outputs": [
    {
     "name": "stdout",
     "output_type": "stream",
     "text": [
      "failed: 0\n"
     ]
    }
   ],
   "source": [
    "failed = [(work_dir,d) for work_dir,d in log_runs if (not isfile(join(work_dir,d,'vis_data', f'{d}.json')) and not isfile(join(work_dir, d, f'{d}.json')))]\n",
    "print(f'failed: {len(failed)}')\n",
    "for work_dir, d in failed:\n",
    "    rmdir(work_dir, d)"
   ],
   "metadata": {
    "collapsed": false,
    "ExecuteTime": {
     "end_time": "2023-11-29T12:33:01.819187966Z",
     "start_time": "2023-11-29T12:33:01.814973259Z"
    }
   },
   "id": "e75feeba79703798"
  },
  {
   "cell_type": "code",
   "execution_count": null,
   "outputs": [],
   "source": [],
   "metadata": {
    "collapsed": false
   },
   "id": "d7d4ef6ff9e495b9"
  }
 ],
 "metadata": {
  "kernelspec": {
   "display_name": "Python 3",
   "language": "python",
   "name": "python3"
  },
  "language_info": {
   "codemirror_mode": {
    "name": "ipython",
    "version": 2
   },
   "file_extension": ".py",
   "mimetype": "text/x-python",
   "name": "python",
   "nbconvert_exporter": "python",
   "pygments_lexer": "ipython2",
   "version": "2.7.6"
  }
 },
 "nbformat": 4,
 "nbformat_minor": 5
}
