{
 "cells": [
  {
   "cell_type": "code",
   "execution_count": 13,
   "id": "initial_id",
   "metadata": {
    "collapsed": true,
    "ExecuteTime": {
     "end_time": "2023-11-29T13:28:54.447994060Z",
     "start_time": "2023-11-29T13:28:54.406649400Z"
    }
   },
   "outputs": [],
   "source": [
    "import os\n",
    "import shutil\n",
    "from mmengine.config import Config\n",
    "import json"
   ]
  },
  {
   "cell_type": "code",
   "execution_count": 8,
   "outputs": [],
   "source": [
    "current_dir = os.getcwd()\n",
    "\n",
    "def listdir(*rel_paths):\n",
    "    return os.listdir(os.path.join(current_dir, *rel_paths))\n",
    "\n",
    "def isdir(*rel_paths):\n",
    "    return os.path.isdir(os.path.join(current_dir, *rel_paths))\n",
    "\n",
    "def join(*rel_paths):\n",
    "    return os.path.join(current_dir, *rel_paths)\n",
    "\n",
    "def isfile(*rel_paths):\n",
    "    return os.path.isfile(join(*rel_paths))\n",
    "\n",
    "def rmdir(*rel_paths):\n",
    "    return shutil.rmtree(join(*rel_paths), ignore_errors=True)"
   ],
   "metadata": {
    "collapsed": false,
    "ExecuteTime": {
     "end_time": "2023-11-29T13:27:19.603471077Z",
     "start_time": "2023-11-29T13:27:19.602165191Z"
    }
   },
   "id": "8b906a003906edab"
  },
  {
   "cell_type": "code",
   "execution_count": 9,
   "outputs": [
    {
     "name": "stdout",
     "output_type": "stream",
     "text": [
      "work dirs: 4\n",
      "log runs: 14\n"
     ]
    }
   ],
   "source": [
    "work_dirs = [d for d in os.listdir() if isdir(d)]\n",
    "print(f'work dirs: {len(work_dirs)}')\n",
    "log_runs = [(work_dir, d) for work_dir in work_dirs for d in listdir(work_dir) if isdir(work_dir,d)]\n",
    "print(f'log runs: {len(log_runs)}')"
   ],
   "metadata": {
    "collapsed": false,
    "ExecuteTime": {
     "end_time": "2023-11-29T13:27:20.174802063Z",
     "start_time": "2023-11-29T13:27:20.168697005Z"
    }
   },
   "id": "985b3d7bf8b3d945"
  },
  {
   "cell_type": "code",
   "execution_count": 10,
   "outputs": [
    {
     "name": "stdout",
     "output_type": "stream",
     "text": [
      "failed: 0\n"
     ]
    }
   ],
   "source": [
    "failed = [(work_dir,d) for work_dir,d in log_runs if (not isfile(join(work_dir,d,'vis_data', f'{d}.json')) and not isfile(join(work_dir, d, f'{d}.json')))]\n",
    "print(f'failed: {len(failed)}')\n",
    "for work_dir, d in failed:\n",
    "    rmdir(work_dir, d)"
   ],
   "metadata": {
    "collapsed": false,
    "ExecuteTime": {
     "end_time": "2023-11-29T13:27:21.459400655Z",
     "start_time": "2023-11-29T13:27:21.452791287Z"
    }
   },
   "id": "e75feeba79703798"
  },
  {
   "cell_type": "code",
   "execution_count": 11,
   "outputs": [
    {
     "name": "stdout",
     "output_type": "stream",
     "text": [
      "work dirs: 4\n",
      "log runs: 14\n"
     ]
    }
   ],
   "source": [
    "work_dirs = [d for d in os.listdir() if isdir(d)]\n",
    "print(f'work dirs: {len(work_dirs)}')\n",
    "log_runs = [(work_dir, d) for work_dir in work_dirs for d in listdir(work_dir) if isdir(work_dir,d)]\n",
    "print(f'log runs: {len(log_runs)}')\n",
    "# there are still more runs that may have failed, we can identify them by looking at the contents of the json files (does the second last line iteration count match the max_iters in the config?)\n"
   ],
   "metadata": {
    "collapsed": false,
    "ExecuteTime": {
     "end_time": "2023-11-29T13:27:22.143742370Z",
     "start_time": "2023-11-29T13:27:22.136874194Z"
    }
   },
   "id": "d7d4ef6ff9e495b9"
  },
  {
   "cell_type": "code",
   "execution_count": 21,
   "outputs": [
    {
     "name": "stdout",
     "output_type": "stream",
     "text": [
      "[False, True, False, True, True, True, True, False, True, True, False]\n",
      "[('setr_vit-l_pup-noaux_8xb2-160k_ade20k-512x512', '20231119_215811'), ('setr_vit-l_pup-noaux_8xb2-160k_ade20k-512x512', '20231119_210546'), ('setr_vit-l_pup_8xb2-160k_ade20k-512x512', '20231119_215811'), ('setr_vit-l_pup_8xb2-160k_ade20k-512x512', '20231119_210223')]\n"
     ]
    }
   ],
   "source": [
    "train_runs = [(work_dir, d) for work_dir, d in log_runs if isfile(work_dir, d, 'vis_data', f'{d}.json')]\n",
    "\n",
    "def load_json(work_dir, d):\n",
    "    with open(join(work_dir, d, 'vis_data', f'{d}.json')) as f:\n",
    "        data = f.readlines()\n",
    "        data = [json.loads(line) for line in data]\n",
    "        return data\n",
    "\n",
    "def completed(work_dir, d, data):\n",
    "    iteration = data[-2].get('iter')\n",
    "    if iteration is None:\n",
    "        return False\n",
    "    config = Config.fromfile(join(work_dir, d, 'vis_data', 'config.py'))\n",
    "    return iteration == config.train_cfg.max_iters\n",
    "\n",
    "train_runs = [(work_dir, d, load_json(work_dir, d)) for work_dir, d in train_runs if isfile(work_dir, d, 'vis_data', f'{d}.json')]\n",
    "\n",
    "successes = [(*train_run, completed(*train_run)) for train_run in train_runs]\n",
    "\n",
    "print([success[-1] for success in successes])\n",
    "print([success[:2] for success in successes if not success[-1]])"
   ],
   "metadata": {
    "collapsed": false,
    "ExecuteTime": {
     "end_time": "2023-11-29T13:35:26.961930047Z",
     "start_time": "2023-11-29T13:35:26.784020466Z"
    }
   },
   "id": "14df96e68f46717"
  },
  {
   "cell_type": "code",
   "execution_count": null,
   "outputs": [],
   "source": [],
   "metadata": {
    "collapsed": false
   },
   "id": "6f8cf7490e78c277"
  }
 ],
 "metadata": {
  "kernelspec": {
   "display_name": "Python 3",
   "language": "python",
   "name": "python3"
  },
  "language_info": {
   "codemirror_mode": {
    "name": "ipython",
    "version": 2
   },
   "file_extension": ".py",
   "mimetype": "text/x-python",
   "name": "python",
   "nbconvert_exporter": "python",
   "pygments_lexer": "ipython2",
   "version": "2.7.6"
  }
 },
 "nbformat": 4,
 "nbformat_minor": 5
}
